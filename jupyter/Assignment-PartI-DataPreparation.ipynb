{
 "cells": [
  {
   "cell_type": "markdown",
   "metadata": {
    "nbpresent": {
     "id": "285262d4-c249-4623-96ff-ccedeccfaefd"
    }
   },
   "source": [
    "# `OscaRobber`"
   ]
  },
  {
   "cell_type": "markdown",
   "metadata": {},
   "source": [
    "# Part I: Data preparation"
   ]
  },
  {
   "cell_type": "markdown",
   "metadata": {},
   "source": [
    "In this section we decide on libraries and data structures we will use across the notebook, but also perform the initial preprocessing of the data to a shape which is best for use in further analysis. We'll show how to \n",
    "* Fetch data from IMDB website\n",
    "* Convert plaintext files to SQLite tables\n",
    "* Bring structure into the data by preprocessing it using bunch of helper classes\n",
    "* Import it to MongoDB and make access super-fast"
   ]
  },
  {
   "cell_type": "markdown",
   "metadata": {
    "nbpresent": {
     "id": "6d817c83-7e67-466f-8654-7d3746f3146c"
    }
   },
   "source": [
    "## How to fetch IMDB data"
   ]
  },
  {
   "cell_type": "markdown",
   "metadata": {
    "nbpresent": {
     "id": "945370b3-8b3b-4cc6-9c15-c55057635776"
    }
   },
   "source": [
    "First of all we start by fetching the data. There are two different ways to fetch the data from the IMDB website.\n",
    "* One way, fetching information through the http://akas.imdb.com web server by using the http data access system. This can be a problem, because it means that a lot of web pages must be fetched and parsed, and this can be time and bandwidth consuming, and before we get very far in a big data query we could see our IP address blocked.\n",
    "* To help serve users who want local access to their data, however, the IMDB offers their data set as plain text files that can be downloaded for free. Thus, another way, using a local SQL (here SQLite3) database, after we've populated it with the data from the plain text data files (we can have a local copy of the database from http://www.imdb.com/interfaces/) using the `imdbpy2sql.py` script. "
   ]
  },
  {
   "cell_type": "markdown",
   "metadata": {
    "nbpresent": {
     "id": "4453f3ba-0f44-4b82-b225-ab1e9582cf74"
    }
   },
   "source": [
    "We choose the local approach: \n",
    "* Selected a mirror of the \"The Plain Text Data Files\" from the http://www.imdb.com/interfaces/ page\n",
    "* Retrieved 1.100 files from IMDB's FTP-server, taking 12,54 GB on disk space\n",
    "* Created a database named \"imdb\" using SQLite3:\n",
    "\n",
    "`sqlite3 imdb`\n",
    "\n",
    "`> create table emptyTable(field1 int); drop table emptyTable;`\n",
    "\n",
    "* Created the tables and populated the database by running the imdbpy2sql.py script:\n",
    "\n",
    "`# imdbpy2sql.py -d /dir/with/plainTextDataFiles/ -u 'sqlite:///full/path/to/database'`\n",
    "\n",
    "The `imdbpy2sql.py` script has a number of command line arguments, useful to chose amongst presets that can improve performances, using specific database servers. We used the `--sqlite-transactions` command\n",
    "line option to obtain acceptable performances. SQLite seems to hugely benefit from the use of a non-journaling\n",
    "filesystem and/or of a ramdisk/tmpfs.\n",
    "\n",
    "The time elapsed:\n",
    "\n",
    "`# TIME TOTAL TIME TO INSERT/WRITE DATA : 72min, 40sec (wall) 60min, 18sec (user) 3min, 15sec (system)`\n",
    "\n",
    "`# TIME FINAL : 84min, 50sec (wall) 68min, 22sec (user) 4min, 11sec (system)`\n",
    "\n",
    "**The final DB takes 9,76 GB on disk.**"
   ]
  },
  {
   "cell_type": "markdown",
   "metadata": {},
   "source": [
    "## SQLite? Not good"
   ]
  },
  {
   "cell_type": "markdown",
   "metadata": {},
   "source": [
    "Using SQLite seems straightforward and quite obvious (e.g., relational databases perform quite good by joins). But there are downsides. First of all, many columns have to be parsed with regular expressions in order to extract a desirable attribute. This can't be done with `sqlite3` library itself. Second, SQLite doesn't allow to group values without aggregating, i.e., we cannot put attribute values of the same id into a list or a set. Third, complex mapping isn't possible. And finally, clause \"distinct\" to drop duplicates works 10 times slower than by using native Python. For all that reasons, we will transform the data outside of SQLite and store it into MongoDB, as it allows storing lists, fast indexing of ids, and more. We will get a bunch of collections in MongoDB which can be queried by movie id, person id, or similar, and return values of the corresponding attribute. Those values will be clean and ready for use in all analysis steps later on."
   ]
  },
  {
   "cell_type": "markdown",
   "metadata": {
    "nbpresent": {
     "id": "25dab757-5ba4-418a-aded-281fb3f51919"
    }
   },
   "source": [
    "## Which libraries to use "
   ]
  },
  {
   "cell_type": "markdown",
   "metadata": {},
   "source": [
    "There are many options for processing the raw data from SQLite and transforming it in a way that we can use it in further steps of our analysis. \n",
    "\n",
    "#### 1. Option: Using `blaze`\n",
    "\n",
    "> The Blaze Ecosystem provides Python users high-level access to efficient computation on inconveniently large data. \n",
    "\n",
    "We tried to use Blaze in the project to manipulate data, but the performance was ugly: \n",
    "* SQLite queries were executed very inefficiently\n",
    "* Transforming SQLAlchemy object to `pandas.DataFrame` lasted infinite time"
   ]
  },
  {
   "cell_type": "markdown",
   "metadata": {},
   "source": [
    "For example peace of code below performed in **86.54 sec**."
   ]
  },
  {
   "cell_type": "raw",
   "metadata": {
    "collapsed": true
   },
   "source": [
    "lite_db = blz.data('sqlite:////Users/olegpolakow/Documents/imdb_data/imdb.sqlite')\n",
    "movie_title_t = lite_db.title[lite_db.title.kind_id == 1] \\\n",
    "                             .rename(id='movie_id') \\\n",
    "                             [['movie_id', 'title', 'production_year']]\n",
    "movie_titles_map_df = blz.into(pda.DataFrame, movie_titles_map)\n",
    "movie_titles_map_df = movie_titles_map_df.groupby('movie_id').aggregate(lambda x: list(x))"
   ]
  },
  {
   "cell_type": "markdown",
   "metadata": {},
   "source": [
    "While using native `pandas` performed in **5.52 sec**.\n",
    "\n",
    "Thus, Blaze is not a right candidate to achieve the best performance in transforming data and transferring it from one system into another."
   ]
  },
  {
   "cell_type": "markdown",
   "metadata": {},
   "source": [
    "#### 2. Option: Using `sqlite3` and `pickle`\n",
    "\n",
    "Using pickle is a terrible idea that should be avoided whenever possible:\n",
    "* Pickle is both slower and produces larger serialized values than most of the alternatives\n",
    "* Another reason not to use pickle is that unpickling malicious data can cause security issues, including arbitrary code execution.\n",
    "* For each update you will have to remember to pickle the entire data and save it to disk."
   ]
  },
  {
   "cell_type": "markdown",
   "metadata": {},
   "source": [
    "#### 3. Option: Using `sqlite3`, `pandas` and `pymongo` \n",
    "\n",
    "This option performs best, and without any overheads produced by other third-party libraries like `blaze`. We can take full control of each step and produce a very clean pipeline. Additionaly, we can get stats on every operation we undertake, so it makes the code analysis a lot easier than with comparable solutions."
   ]
  },
  {
   "cell_type": "markdown",
   "metadata": {
    "nbpresent": {
     "id": "14c5e0ea-c3fe-4a3d-88ab-b9e66d883682"
    }
   },
   "source": [
    "## How to transform the data"
   ]
  },
  {
   "cell_type": "markdown",
   "metadata": {},
   "source": [
    "A set of helpers needs to be defined in order to process data transparently and in a matter we want.\n",
    "\n",
    "***Important: We will rely on `pandas.DataFrame` data structure to represent data retrieved from SQLite and work on it. An option would be to work on lists, but it would also mean a lot of additional code which we want to avoid. So every helper defined below works mainly on dataframes.***"
   ]
  },
  {
   "cell_type": "markdown",
   "metadata": {},
   "source": [
    "### Printing tables"
   ]
  },
  {
   "cell_type": "markdown",
   "metadata": {},
   "source": [
    "Decision on how to print data from SQLite and MongoDB is not easy. There are many ways, from `json.dumps` to `PrettyPrinter`, but the coolest way is to define the class ourselfes. The `Table` class, as other helpes, will base upon `pandas.DataFrame` functionality as it allows us to print a tabular data nicely."
   ]
  },
  {
   "cell_type": "code",
   "execution_count": 2,
   "metadata": {
    "collapsed": true
   },
   "outputs": [],
   "source": [
    "from lib.table import Table"
   ]
  },
  {
   "cell_type": "markdown",
   "metadata": {},
   "source": [
    "Here a small example how the `Table` class works."
   ]
  },
  {
   "cell_type": "code",
   "execution_count": 3,
   "metadata": {
    "collapsed": false
   },
   "outputs": [
    {
     "name": "stdout",
     "output_type": "stream",
     "text": [
      "\n",
      "   h1  h2  h3\n",
      "2   3   4   2\n",
      "1   2   4   1\n",
      "0   1   5   9\n",
      "\n",
      "\n",
      "   h1  h2  h3\n",
      "2   3   4   2\n",
      "1   2   4   1\n",
      "0   1   5   9\n",
      "\n"
     ]
    }
   ],
   "source": [
    "t = Table()\n",
    "t.from_dict({'h1': [1, 2, 3], 'h2': [5, 4, 4], 'h3': [9, 1, 2]})\n",
    "t.sort_values(by=['h2', 'h3'], ascending=[True, False])\n",
    "t.display()\n",
    "# or\n",
    "t.from_tuples([(1, 5, 9), (2, 4, 1), (3, 4, 2)], columns=['h1', 'h2', 'h3'])\n",
    "t.sort_values(by=['h2', 'h3'], ascending=[True, False])\n",
    "t.display()"
   ]
  },
  {
   "cell_type": "markdown",
   "metadata": {
    "nbpresent": {
     "id": "515e3451-71e2-4a62-b1b0-0e91139b70b8"
    }
   },
   "source": [
    "### Fetching and processing SQLite data"
   ]
  },
  {
   "cell_type": "markdown",
   "metadata": {},
   "source": [
    "Here we define a SQLite helper, which encapsulates a pipeline for preprocessing the data. Working on raw tables (means analyzing them without preprocessing) is a headshot, as many columns require text extraction using regular expressions, but also cleaning, grouping and format conversion. This all is done by a single pipeline consisting of following steps:\n",
    "1. Import data from SQLite into a dataframe\n",
    "2. Drop duplicates\n",
    "3. If some column contains joined text data or needs to be parsed using a regular expression, then extract texts (optional)\n",
    "4. Apply map over a parsed column (optional, e.g., convert string to int)\n",
    "5. Group rows by id and aggregate them into a list (handling one-to-many relationsships)\n",
    "6. Perform reduce operation on lists (optional, e.g., compute the max of the list)\n",
    "\n",
    "It's implemented using knowledge about patterns in the data and with regard to further transmission to MongoDB.\n",
    "\n",
    "Here is an example of preprocessing movie gross data gathered from SQLite. IMDB tables often contain records like below: different attributes are stored under different type ids. Our goal is to split those attributes (perform filter), save them to new dataframes and apply all tools on each of them.\n",
    "\n",
    "    1. Read SQL\n",
    "First we execute a SQL statement on SQLite database to get desired records and save them in a dataframe\n",
    "\n",
    "| id | type | info |\n",
    "|-|-|-|\n",
    "| 3131991 | 4 | \"English\" |\n",
    "| 3131991 | 8 | \"USA\" |\n",
    "| 3131991 | 107 | \"\\$421,000\" |\n",
    "| 3131991 | 107 | \"\\$421,000\" |\n",
    "| 3131991 | 107 | \"\\$581,000\" |\n",
    "\n",
    "    2. Drop duplicates\n",
    "Then we take care of duplicate records\n",
    "\n",
    "| id | type | info |\n",
    "|-|-|-|\n",
    "| 3131991 | 4 | \"English\" |\n",
    "| 3131991 | 8 | \"USA\" |\n",
    "| 3131991 | 107 | \"\\$421,000\" |\n",
    "| 3131991 | 107 | \"\\$581,000\" |\n",
    "\n",
    "    3. Filter\n",
    "Split attributes by value of some third-party column\n",
    "\n",
    "| id | type | languages |\n",
    "|-|-|-|\n",
    "| 3131991 | 4 | \"English\" |\n",
    "\n",
    "| id | type | prod_countries |\n",
    "|-|-|-|\n",
    "| 3131991 | 8 | \"USA\" |\n",
    "\n",
    "| id | type | gross |\n",
    "|-|-|-|\n",
    "| 3131991 | 107 | \"\\$421,000\" |\n",
    "| 3131991 | 107 | \"\\$581,000\" |\n",
    "\n",
    "    4. Remove column\n",
    "Remove column, i.e., the third-party column used to split attributes\n",
    "\n",
    "| id | languages |\n",
    "|-|-|\n",
    "| 3131991 | \"English\" |\n",
    "\n",
    "| id | prod_countries |\n",
    "|-|-|\n",
    "| 3131991 | \"USA\" |\n",
    "\n",
    "| id | gross |\n",
    "|-|-|\n",
    "| 3131991 | \"\\$421,000\" |\n",
    "| 3131991 | \"\\$581,000\" |\n",
    "\n",
    "    5. Extract text\n",
    "Now let's take a look at gross. We want not strings in gross column but integers, so remove dollar sign along with commas\n",
    "\n",
    "| id | gross |\n",
    "|-|-|\n",
    "| 3131991 | \"421000\" |\n",
    "| 3131991 | \"581000\" |\n",
    "\n",
    "    6. Map\n",
    "Convert strings to integers\n",
    "\n",
    "| id | gross |\n",
    "|-|-|\n",
    "| 3131991 | 421000 |\n",
    "| 3131991 | 581000 |\n",
    "\n",
    "    7. Group\n",
    "Joins in IMDB database can be performed on tables with either one-to-one or one-to-many relationship, thus some of ids will have one value, some more. Group them all into a list. If an id has only one value assigned, put this value into a list so the whole column is of one data type.\n",
    "\n",
    "| id | gross |\n",
    "|-|-|\n",
    "| 3131991 | [421000, 581000] |\n",
    "\n",
    "    8. Reduce\n",
    "In IMDB database, gross records are cumulative over time, so we need to choose only the latest record (i.e. biggest in value), thus reduce data using `max`\n",
    "\n",
    "| id | gross |\n",
    "|-|-|\n",
    "| 3131991 | [581000] |\n",
    "\n",
    "Take notice that the result of the group operation is a list, not a scalar. This is wanted. On some dataframes we want to perform reduce, on some not, thus some of them will contain single values, some lists, when returned. By having diverse data structures, we would need to implement additional helpers to work on them. If you don't understand what I say - just trust me.\n",
    "\n",
    "***Hence every item in a dataframe will be a list (except id).***\n",
    "\n",
    "    9. Encode\n",
    "Some of the attributes will contain strings reoccurring in many rows. Those strings take more place than if we were working with integers. Let's take a small example of how \"Denmark\" of the attribute \"production country\" compares with its encoded version."
   ]
  },
  {
   "cell_type": "code",
   "execution_count": 4,
   "metadata": {
    "collapsed": false
   },
   "outputs": [
    {
     "name": "stdout",
     "output_type": "stream",
     "text": [
      "\"Denmark\" as string: 48\n",
      "\"Denmark\" as integer: 24\n"
     ]
    }
   ],
   "source": [
    "from pympler.asizeof import asizeof\n",
    "print '\"Denmark\" as string: %d' % asizeof('Denmark')\n",
    "print '\"Denmark\" as integer: %d' % asizeof(154)"
   ]
  },
  {
   "cell_type": "markdown",
   "metadata": {},
   "source": [
    "Thus for each of those attributes we build a map and encode the attribute according to that map. We build a map by extracting all unique values and enumerating them. By doing this we get two different dataframes: \n",
    "* Dataframe containing an integer-encoded attribute\n",
    "* Dataframe containing map of this attribute to get initial string values later on\n",
    "\n",
    "For example:\n",
    "\n",
    "| id | genres |\n",
    "|-|-|\n",
    "| 3131991 | [\"Action\", \"Comedy\"] |\n",
    "\n",
    "By encoding document we get encoded dataframe\n",
    "\n",
    "| id | genres |\n",
    "|-|-|\n",
    "| 3131991 | [23, 56] |\n",
    "\n",
    "and a map\n",
    "\n",
    "| id | genres\\_map |\n",
    "|-|-|\n",
    "| 23 | [\"Action\"] |\n",
    "| 56 | [\"Comedy\"] |\n",
    "\n",
    "***This way we save a lot of space.***"
   ]
  },
  {
   "cell_type": "code",
   "execution_count": 5,
   "metadata": {
    "collapsed": false
   },
   "outputs": [],
   "source": [
    "from lib.litehelper import LiteHelper\n",
    "lite = LiteHelper('/Users/olegpolakow/Documents/imdb_data/imdb.sqlite')"
   ]
  },
  {
   "cell_type": "markdown",
   "metadata": {
    "nbpresent": {
     "id": "5f300606-0d11-4bcf-8bd5-cb0cbad69d02"
    }
   },
   "source": [
    "### Pushing data to MongoDB"
   ]
  },
  {
   "cell_type": "markdown",
   "metadata": {},
   "source": [
    "MongoDB helper makes transmitting data to MongoDB a lot easier. It does:\n",
    "1. Take a dataframe as input\n",
    "2. Extract each column from the dataframe as `pandas.Series` object\n",
    "3. Convert series into a format accepted by MongoDB (e.g., list of dicts)\n",
    "4. Store documents in a new collection which name is a column name in the dataframe\n",
    "5. Create an index so document retrieval is super-fast\n",
    "\n",
    "It also shows statistics on collections. "
   ]
  },
  {
   "cell_type": "code",
   "execution_count": 6,
   "metadata": {
    "collapsed": false
   },
   "outputs": [
    {
     "name": "stdout",
     "output_type": "stream",
     "text": [
      "MongoClient(host=['localhost:27017'], document_class=dict, tz_aware=False, connect=True)\n",
      "Database(MongoClient(host=['localhost:27017'], document_class=dict, tz_aware=False, connect=True), u'imdb')\n"
     ]
    }
   ],
   "source": [
    "from lib.mongohelper import MongoHelper\n",
    "mongo = MongoHelper('imdb')"
   ]
  },
  {
   "cell_type": "markdown",
   "metadata": {},
   "source": [
    "### External libraries"
   ]
  },
  {
   "cell_type": "code",
   "execution_count": 7,
   "metadata": {
    "collapsed": true
   },
   "outputs": [],
   "source": [
    "# We need np.nan to fill missing data\n",
    "import numpy as np\n",
    "import re"
   ]
  },
  {
   "cell_type": "markdown",
   "metadata": {},
   "source": [
    "## Begin data processing"
   ]
  },
  {
   "cell_type": "markdown",
   "metadata": {},
   "source": [
    "We have 3 different sources of data:\n",
    "\n",
    "* IMDB data in SQLite\n",
    "* User reviews\n",
    "* JSON files obtained from OMDB service\n",
    "\n",
    "All of them will be processed in distinct sections of this notebook and exported as collections to MongoDB."
   ]
  },
  {
   "cell_type": "markdown",
   "metadata": {
    "nbpresent": {
     "id": "8a89391b-fae7-4a36-ba53-d11c9c31cd13"
    }
   },
   "source": [
    "## IMDB data"
   ]
  },
  {
   "cell_type": "markdown",
   "metadata": {},
   "source": [
    "Now it's time to fetch the data from SQLite, preprocess it, and transfer to MongoDB. \n",
    "\n",
    "***As already mentioned before, many collections will contain ids rather than strings or values (like keyword_ids instead of keywords) to save some space, as integers take less space than strings, so we will need to define maps (collections ending by \"_map\") to get initial values. Don't be scared if you see something like that, it's actually pretty awesome!***\n",
    "\n",
    "For example:\n",
    "\n",
    "| movie_id | keyword_id |\n",
    "|-|-|\n",
    "| 123 | 7834 |\n",
    "\n",
    "using\n",
    "\n",
    "| keyword_id | keyword |\n",
    "|-|-|\n",
    "| 7834 | love |\n",
    "\n",
    "translates into\n",
    "\n",
    "| movie_id | keyword |\n",
    "|-|-|\n",
    "| 123 | love |"
   ]
  },
  {
   "cell_type": "markdown",
   "metadata": {},
   "source": [
    "### Two sets of attributes"
   ]
  },
  {
   "cell_type": "markdown",
   "metadata": {},
   "source": [
    "Our movie-actor network will be bipartite, thus we will work on both its projections: movie network projection and person network projection. \n",
    "* Attributes applied on nodes of movie network projection are movie attributes, like release years, runtimes, and more (see below). We will prepare them first. \n",
    "* Afterwards, we will prepare person attributes like birth place and year, which will be attached to nodes of person network projection."
   ]
  },
  {
   "cell_type": "markdown",
   "metadata": {
    "nbpresent": {
     "id": "de6bbc20-4722-4f0e-a51c-1e16479a02c0"
    }
   },
   "source": [
    "### Movie attributes"
   ]
  },
  {
   "cell_type": "markdown",
   "metadata": {},
   "source": [
    "We will create a bunch of collections with movie attributes. Some of them will be used as node attributes in network analysis, some will be used for similarity and sentiment analysis, and some as variables of classifiers. \n",
    "\n",
    "Now take a look at collections we will transfer to MongoDB and their properties.\n",
    "\n",
    "* In column \"Collection\" we specify how the target collection of documents in MongoDB will be called. \n",
    "* In column \"Search by\" we specify the indexed property (id) by which we search for an attribute. \n",
    "* In column \"Result\" we specify which attribute will be returned.\n",
    "* In column \"Type\" we specify the return type.\n",
    "\n",
    "Collections which return original attribute values\n",
    "    \n",
    "| Collection | Search by | Return | Type |\n",
    "|-|-|-|\n",
    "| `release_years` | `movie_id` | release years | list of `int` |\n",
    "| `runtimes` | `movie_id` | runtimes | list of `int` |\n",
    "| `plots` | `movie_id` | plots | list of `str` |\n",
    "| `budgets` | `movie_id` | budgets | list of `int` |\n",
    "| `gross` | `movie_id` | gross | list of `int` |\n",
    "| `votes` | `movie_id` | number of votes | list of `int` |\n",
    "| `imdb_ratings` | `movie_id` | imdb ratings | list of `float` |\n",
    "\n",
    "Collections which return encoded attribute values (you need a map to decode)\n",
    "\n",
    "| Collection | Search by | Return | Type |\n",
    "|-|-|-|\n",
    "| `genres` | `movie_id` | `genre_id` | list of `int` |\n",
    "| `languages` | `movie_id` | `language_id` | list of `int` |\n",
    "| `prod_countries` | `movie_id` | `prod_countries_id` | list of `int` |\n",
    "| `keywords` | `movie_id` | `keyword_id` | list of `int` |\n",
    "| `prod_companies` | `movie_id` | `prod_companies_id` | list of `int` |\n",
    "| `cast` | `movie_id` | `person_id` | list of `int` |\n",
    "| `directors` | `movie_id` | `person_id` | list of `int` |\n",
    "\n",
    "Collections which are used to decode a specific attribute for an original value\n",
    "\n",
    "| Collection | Search by | Result | Type |\n",
    "|-|-|-|\n",
    "| `titles_map` | `movie_id` | titles | list of `str` |\n",
    "| `genres_map` | `genre_id` | genres | list of `str` |\n",
    "| `languages_map` | `language_id` | languages | list of `str` |\n",
    "| `prod_countries_map` | `prod_countries_id` | production countries | list of `str` |\n",
    "| `keywords_map` | `keyword_id` | keywords | list of `str` |\n",
    "| `prod_companies_map` | `company_id` | company names | list of `str` |\n",
    "\n",
    "***Notice that results are always lists containing one or more values. This is done because we want to treat single (from an one-to-one relationship) as well as multiple values (from an one-to-many relationship) uniformly.***"
   ]
  },
  {
   "cell_type": "markdown",
   "metadata": {},
   "source": [
    "### Table `title`"
   ]
  },
  {
   "cell_type": "markdown",
   "metadata": {},
   "source": [
    "Following collections are stored:\n",
    "* `titles_map`: Map of movie titles. All movie attributes are keyed by `movie_id`, but if you want a title for that `movie_id`, than look into this map. \n",
    "* `release_years`: Release year of a movie."
   ]
  },
  {
   "cell_type": "code",
   "execution_count": 8,
   "metadata": {
    "collapsed": false
   },
   "outputs": [
    {
     "name": "stdout",
     "output_type": "stream",
     "text": [
      "# SQLite\n",
      "\n",
      "         Operation                           Column   Count  Time (sec)\n",
      "0         Read SQL  [id, titles_map, release_years]  963014   13.590428\n",
      "1  Drop duplicates  [id, titles_map, release_years]  933715    0.683886\n",
      "\n",
      "\n",
      "  Operation                           Column   Count  Time (sec)\n",
      "0     Group  [id, titles_map, release_years]  933715  152.196688\n",
      "\n",
      "# MongoDB\n",
      "\n",
      "           Operation     Collection   Count  Time (sec)\n",
      "0  Convert dataframe     titles_map  933715    1.156781\n",
      "1  Convert dataframe  release_years  933715    2.873072\n",
      "2    Store documents     titles_map  933715   27.198547\n",
      "3       Create index     titles_map            4.496047\n",
      "4    Store documents  release_years  933715   57.472108\n",
      "5       Create index  release_years            2.803487\n",
      "\n",
      "\n",
      "     collections   count  size (MB)  storage (MB)\n",
      "0     titles_map  933715         59            14\n",
      "1  release_years  933715         46             0\n",
      "\n",
      "\n"
     ]
    }
   ],
   "source": [
    "mongo.store(\n",
    "    *lite.pipeline(\n",
    "        '''    \n",
    "            SELECT \n",
    "                title.id AS id, \n",
    "                title.title AS titles_map, \n",
    "                title.production_year AS release_years\n",
    "            FROM title \n",
    "            WHERE title.kind_id = 1 \n",
    "        ''',\n",
    "        col_map={'year_info': lambda x: int(x) if x else np.nan}\n",
    "    )\n",
    ")"
   ]
  },
  {
   "cell_type": "code",
   "execution_count": 9,
   "metadata": {
    "collapsed": false,
    "nbpresent": {
     "id": "3c552aae-44a1-45b9-932c-dd28e956181d"
    }
   },
   "outputs": [
    {
     "data": {
      "text/plain": [
       "{3734624: [u'The Dark Knight Rises']}"
      ]
     },
     "execution_count": 9,
     "metadata": {},
     "output_type": "execute_result"
    }
   ],
   "source": [
    "mongo.collect('titles_map', filter={'id': 3734624})"
   ]
  },
  {
   "cell_type": "code",
   "execution_count": 10,
   "metadata": {
    "collapsed": false,
    "nbpresent": {
     "id": "03964110-cc7e-43d4-a391-2519cdf6e956"
    }
   },
   "outputs": [
    {
     "data": {
      "text/plain": [
       "{3734624: [2012.0]}"
      ]
     },
     "execution_count": 10,
     "metadata": {},
     "output_type": "execute_result"
    }
   ],
   "source": [
    "mongo.collect('release_years', filter={'id': 3734624})"
   ]
  },
  {
   "cell_type": "markdown",
   "metadata": {
    "nbpresent": {
     "id": "65ff2ac1-b50c-448d-af0c-27b573ba87de"
    }
   },
   "source": [
    "### Table `movie_info`"
   ]
  },
  {
   "cell_type": "markdown",
   "metadata": {},
   "source": [
    "Following collections are stored:\n",
    "* `runtimes`: Runtime of a movie given in minutes.\n",
    "* `genres`: Genres of a movie. Encoded with `genres_map`.\n",
    "* `languages`: Languages spoken in a movie. Encoded with `languages_map`.\n",
    "* `countries`: Countries in which a movie was produced. Encoded with `prod_countries_map`.\n",
    "* `plots`: Plots of a movie.\n",
    "* `budgets`: Budget of a movie.\n",
    "* `gross`: Gross of a movie."
   ]
  },
  {
   "cell_type": "code",
   "execution_count": 11,
   "metadata": {
    "collapsed": false,
    "scrolled": true
   },
   "outputs": [
    {
     "name": "stdout",
     "output_type": "stream",
     "text": [
      "# SQLite\n",
      "\n",
      "         Operation                            Column    Count  Time (sec)\n",
      "0         Read SQL                  [id, type, info]  4923514  173.320327\n",
      "1  Drop duplicates                  [id, type, info]  4919819    2.659981\n",
      "2           Filter       df[type==4] info->languages   909870    0.103121\n",
      "3           Filter         df[type==107] info->gross   169922    0.039586\n",
      "4           Filter       df[type==105] info->budgets   174597    0.026757\n",
      "5           Filter          df[type==3] info->genres  1745934    0.176832\n",
      "6           Filter  df[type==8] info->prod_countries  1023371    0.101818\n",
      "7           Filter          df[type==98] info->plots   244105    0.034201\n",
      "8           Filter        df[type==1] info->runtimes   652020    0.079657\n",
      "\n",
      "\n",
      "  Operation           Column                                    Count  \\\n",
      "0     Group  [id, languages]                                   848085   \n",
      "1    Encode        languages  848085 (languages), 342 (languages_map)   \n",
      "\n",
      "   Time (sec)  \n",
      "0   74.171203  \n",
      "1    1.933673  \n",
      "\n",
      "\n",
      "  Operation        Column   Count  Time (sec)\n",
      "0     Parse  gross->gross  169922    0.468608\n",
      "1       Map         gross  122880    0.255924\n",
      "2     Group   [id, gross]   15568    1.299044\n",
      "3    Reduce         gross   15568    0.017342\n",
      "\n",
      "\n",
      "  Operation            Column   Count  Time (sec)\n",
      "0     Parse  budgets->budgets  174597    0.310272\n",
      "1       Map           budgets  101695    0.228048\n",
      "2     Group     [id, budgets]  101221    8.053143\n",
      "\n",
      "\n",
      "  Operation        Column                             Count  Time (sec)\n",
      "0     Group  [id, genres]                            886236   78.070451\n",
      "1    Encode        genres  886236 (genres), 28 (genres_map)    2.334959\n",
      "\n",
      "\n",
      "  Operation                Column  \\\n",
      "0     Group  [id, prod_countries]   \n",
      "1    Encode        prod_countries   \n",
      "\n",
      "                                               Count  Time (sec)  \n",
      "0                                             951419   84.168205  \n",
      "1  951419 (prod_countries), 241 (prod_countries_map)    2.219549  \n",
      "\n",
      "\n",
      "  Operation       Column   Count  Time (sec)\n",
      "0     Group  [id, plots]  218348   19.294053\n",
      "\n",
      "\n",
      "  Operation              Column   Count  Time (sec)\n",
      "0     Parse  runtimes->runtimes  652020    1.853459\n",
      "1       Map            runtimes  652020    0.827752\n",
      "2     Group      [id, runtimes]  613963   46.597630\n",
      "\n",
      "# MongoDB\n",
      "\n",
      "           Operation     Collection Count  Time (sec)\n",
      "0  Convert dataframe  languages_map   342    0.000713\n",
      "1    Store documents  languages_map   342    0.160282\n",
      "2       Create index  languages_map          0.058129\n",
      "\n",
      "\n",
      "     collections  count  size (MB)  storage (MB)\n",
      "0  languages_map    342          0             0\n",
      "\n",
      "\n",
      "\n",
      "           Operation Collection   Count  Time (sec)\n",
      "0  Convert dataframe  languages  848085    0.990059\n",
      "1    Store documents  languages  848085   24.856460\n",
      "2       Create index  languages            2.458463\n",
      "\n",
      "\n",
      "  collections   count  size (MB)  storage (MB)\n",
      "0   languages  848085         39             0\n",
      "\n",
      "\n",
      "\n",
      "           Operation Collection  Count  Time (sec)\n",
      "0  Convert dataframe      gross  15568    0.011821\n",
      "1    Store documents      gross  15568    0.666689\n",
      "2       Create index      gross           0.100158\n",
      "\n",
      "\n",
      "  collections  count  size (MB)  storage (MB)\n",
      "0       gross  15568          0             0\n",
      "\n",
      "\n",
      "\n",
      "           Operation Collection   Count  Time (sec)\n",
      "0  Convert dataframe    budgets  101221    0.069401\n",
      "1    Store documents    budgets  101221    2.824436\n",
      "2       Create index    budgets            0.319287\n",
      "\n",
      "\n",
      "  collections   count  size (MB)  storage (MB)\n",
      "0     budgets  101221          4             0\n",
      "\n",
      "\n",
      "\n",
      "           Operation  Collection Count  Time (sec)\n",
      "0  Convert dataframe  genres_map    28    0.000196\n",
      "1    Store documents  genres_map    28    0.133380\n",
      "2       Create index  genres_map          0.076914\n",
      "\n",
      "\n",
      "  collections  count  size (MB)  storage (MB)\n",
      "0  genres_map     28          0             0\n",
      "\n",
      "\n",
      "\n",
      "           Operation Collection   Count  Time (sec)\n",
      "0  Convert dataframe     genres  886236    0.599135\n",
      "1    Store documents     genres  886236   25.924617\n",
      "2       Create index     genres            2.315800\n",
      "\n",
      "\n",
      "  collections   count  size (MB)  storage (MB)\n",
      "0      genres  886236         46             0\n",
      "\n",
      "\n",
      "\n",
      "           Operation          Collection Count  Time (sec)\n",
      "0  Convert dataframe  prod_countries_map   241    0.000706\n",
      "1    Store documents  prod_countries_map   241    0.318139\n",
      "2       Create index  prod_countries_map          0.061246\n",
      "\n",
      "\n",
      "          collections  count  size (MB)  storage (MB)\n",
      "0  prod_countries_map    241          0             0\n",
      "\n",
      "\n",
      "\n",
      "           Operation      Collection   Count  Time (sec)\n",
      "0  Convert dataframe  prod_countries  951419    0.694924\n",
      "1    Store documents  prod_countries  951419   27.406920\n",
      "2       Create index  prod_countries            2.810024\n",
      "\n",
      "\n",
      "      collections   count  size (MB)  storage (MB)\n",
      "0  prod_countries  951419         44             0\n",
      "\n",
      "\n",
      "\n",
      "           Operation Collection   Count  Time (sec)\n",
      "0  Convert dataframe      plots  218348    0.158408\n",
      "1    Store documents      plots  218348   15.057669\n",
      "2       Create index      plots            0.806638\n",
      "\n",
      "\n",
      "  collections   count  size (MB)  storage (MB)\n",
      "0       plots  218348        148             0\n",
      "\n",
      "\n",
      "\n",
      "           Operation Collection   Count  Time (sec)\n",
      "0  Convert dataframe   runtimes  613963    1.350845\n",
      "1    Store documents   runtimes  613963   19.210525\n",
      "2       Create index   runtimes            2.010485\n",
      "\n",
      "\n",
      "  collections   count  size (MB)  storage (MB)\n",
      "0    runtimes  613963         30            11\n",
      "\n",
      "\n"
     ]
    }
   ],
   "source": [
    "mongo.store(\n",
    "    *lite.pipeline(\n",
    "        '''\n",
    "            SELECT \n",
    "                title.id AS id, \n",
    "                movie_info.info_type_id AS type, \n",
    "                movie_info.info AS info\n",
    "            FROM title\n",
    "            INNER JOIN movie_info\n",
    "            ON title.id = movie_info.movie_id\n",
    "            WHERE title.kind_id = 1 \n",
    "            AND movie_info.info_type_id IN (1, 3, 4, 8, 98, 105, 107)\n",
    "        ''',\n",
    "        col_filter={\n",
    "            ('type', 1): {'info': 'runtimes'},\n",
    "            ('type', 3): {'info': 'genres'},\n",
    "            ('type', 4): {'info': 'languages'},\n",
    "            ('type', 8): {'info': 'prod_countries'},\n",
    "            ('type', 98): {'info': 'plots'},\n",
    "            ('type', 105): {'info': 'budgets'},\n",
    "            ('type', 107): {'info': 'gross'}\n",
    "        },\n",
    "        col_drop=['type'],\n",
    "        col_extract={\n",
    "            'runtimes': r'(?:.*:)?(?P<runtimes>\\d*)',\n",
    "            'budgets': r'\\$(?P<budgets>[\\d,]*)',\n",
    "            'gross': r'\\$(?P<gross>[\\d,]*)'\n",
    "        },\n",
    "        col_map={\n",
    "            'runtimes': lambda x: int(x) if x else np.nan,\n",
    "            'budgets': lambda x: int(''.join(x.split(','))) if x else np.nan,\n",
    "            'gross': lambda x: int(''.join(x.split(','))) if x else np.nan\n",
    "        },\n",
    "        col_reduce={\n",
    "            'gross': lambda x: [max(x)]\n",
    "        },\n",
    "        col_encode={\n",
    "            'genres': 'genres_map', \n",
    "            'languages': 'languages_map',\n",
    "            'prod_countries': 'prod_countries_map'\n",
    "        }\n",
    "    )\n",
    ")"
   ]
  },
  {
   "cell_type": "code",
   "execution_count": 12,
   "metadata": {
    "collapsed": false,
    "nbpresent": {
     "id": "a62c0811-3013-4d65-a893-2b1662b27e43"
    }
   },
   "outputs": [
    {
     "data": {
      "text/plain": [
       "{3734624: [164.0]}"
      ]
     },
     "execution_count": 12,
     "metadata": {},
     "output_type": "execute_result"
    }
   ],
   "source": [
    "mongo.collect('runtimes', filter={'id': 3734624})"
   ]
  },
  {
   "cell_type": "code",
   "execution_count": 13,
   "metadata": {
    "collapsed": false,
    "nbpresent": {
     "id": "549f75b4-d0f1-47c9-9a5c-1510e541825f"
    }
   },
   "outputs": [
    {
     "data": {
      "text/plain": [
       "{3734624: [u'Action', u'Thriller']}"
      ]
     },
     "execution_count": 13,
     "metadata": {},
     "output_type": "execute_result"
    }
   ],
   "source": [
    "mongo.collect('genres', filter={'id': 3734624}, applymap='genres_map')"
   ]
  },
  {
   "cell_type": "code",
   "execution_count": 14,
   "metadata": {
    "collapsed": false,
    "nbpresent": {
     "id": "bfcaa720-da69-474b-b5ba-f3f9c1564d64"
    }
   },
   "outputs": [
    {
     "data": {
      "text/plain": [
       "{3734624: [u'English', u'Arabic']}"
      ]
     },
     "execution_count": 14,
     "metadata": {},
     "output_type": "execute_result"
    }
   ],
   "source": [
    "mongo.collect('languages', filter={'id': 3734624}, applymap='languages_map')"
   ]
  },
  {
   "cell_type": "code",
   "execution_count": 15,
   "metadata": {
    "collapsed": false,
    "nbpresent": {
     "id": "f23e6347-05ff-492e-90ef-688b34db7338"
    }
   },
   "outputs": [
    {
     "data": {
      "text/plain": [
       "{3734624: [u'USA', u'UK']}"
      ]
     },
     "execution_count": 15,
     "metadata": {},
     "output_type": "execute_result"
    }
   ],
   "source": [
    "mongo.collect('prod_countries', filter={'id': 3734624}, applymap='prod_countries_map')"
   ]
  },
  {
   "cell_type": "code",
   "execution_count": 16,
   "metadata": {
    "collapsed": false,
    "nbpresent": {
     "id": "0ec4d9ab-50c3-46d6-a737-bd3181db74fc"
    },
    "scrolled": false
   },
   "outputs": [
    {
     "data": {
      "text/plain": [
       "{3734624: [u\"Despite his tarnished reputation after the events of The Dark Knight, in which he took the rap for Dent's crimes, Batman feels compelled to intervene to assist the city and its police force which is struggling to cope with Bane's plans to destroy the city.\",\n",
       "  u\"8 years after the events of The Dark Knight find Gotham at a time of peace. This is due to Batman taking the fall for Harvey Dent's murder. However, a new evil force named Bane has arrived in Gotham and aims to take over the city and expose the truth behind who Harvey Dent really was. Now that Wayne Manor has been completely rebuilt - Bruce Wayne has become almost reclusive, rarely leaving the estate. And with Bane taking over the city by force, it forces Batman to come out of retirement. But his allies are few and far apart. An elusive jewel thief by the name of Selina Kyle could be the key to stopping Bane - but whose side is she on?\",\n",
       "  u\"8 years after the Batman taking the fall for murders committed by Harvey, Gotham has a new enemy - Bane, a former member of the League of Shadows. Earlier, with Wayne Manor completely rebuilt, Bruce had become completely reclusive, rarely leaving the estate. Bane plans to continue the work of Ra's Al Ghul by destroying Gotham. With allies being few and far away, Batman teams up with elusive jewel thief Selina Kyle,who may also be the key to stopping Bane. But whose side is she really on?\"]}"
      ]
     },
     "execution_count": 16,
     "metadata": {},
     "output_type": "execute_result"
    }
   ],
   "source": [
    "mongo.collect('plots', filter={'id': 3734624})"
   ]
  },
  {
   "cell_type": "code",
   "execution_count": 17,
   "metadata": {
    "collapsed": false,
    "nbpresent": {
     "id": "3053a28e-3264-407f-8367-b0708e00537d"
    }
   },
   "outputs": [
    {
     "data": {
      "text/plain": [
       "{3734624: [250000000]}"
      ]
     },
     "execution_count": 17,
     "metadata": {},
     "output_type": "execute_result"
    }
   ],
   "source": [
    "mongo.collect('budgets', filter={'id': 3734624})"
   ]
  },
  {
   "cell_type": "code",
   "execution_count": 18,
   "metadata": {
    "collapsed": false,
    "nbpresent": {
     "id": "f0ac71ae-00d6-42e1-90aa-dbbc56cb4f35"
    }
   },
   "outputs": [
    {
     "data": {
      "text/plain": [
       "{3734624: [1084939099]}"
      ]
     },
     "execution_count": 18,
     "metadata": {},
     "output_type": "execute_result"
    }
   ],
   "source": [
    "mongo.collect('gross', filter={'id': 3734624})"
   ]
  },
  {
   "cell_type": "markdown",
   "metadata": {
    "nbpresent": {
     "id": "42fdbead-1fc6-4ce7-9813-c48533a0aee8"
    }
   },
   "source": [
    "### Table `movie_info_ids`"
   ]
  },
  {
   "cell_type": "markdown",
   "metadata": {},
   "source": [
    "* `votes`: Number of votes on IMDB website of a movie.\n",
    "* `imdb_ratings`: Rating on IMDB website of a movie."
   ]
  },
  {
   "cell_type": "code",
   "execution_count": 19,
   "metadata": {
    "collapsed": false
   },
   "outputs": [
    {
     "name": "stdout",
     "output_type": "stream",
     "text": [
      "# SQLite\n",
      "\n",
      "         Operation                            Column   Count  Time (sec)\n",
      "0         Read SQL                  [id, type, info]  560888   30.364634\n",
      "1  Drop duplicates                  [id, type, info]  560888    0.118375\n",
      "2           Filter  df[type==101] info->imdb_ratings  280444    0.027502\n",
      "3           Filter         df[type==100] info->votes  280444    0.022852\n",
      "\n",
      "\n",
      "  Operation                      Column   Count  Time (sec)\n",
      "0     Parse  imdb_ratings->imdb_ratings  280444    0.559324\n",
      "1       Map                imdb_ratings  280444    0.196974\n",
      "2     Group          [id, imdb_ratings]  280444   21.756898\n",
      "\n",
      "\n",
      "  Operation        Column   Count  Time (sec)\n",
      "0     Parse  votes->votes  280444    0.730650\n",
      "1       Map         votes  280444    0.344960\n",
      "2     Group   [id, votes]  280444   21.685771\n",
      "\n",
      "# MongoDB\n",
      "\n",
      "           Operation    Collection   Count  Time (sec)\n",
      "0  Convert dataframe  imdb_ratings  280444    0.387501\n",
      "1    Store documents  imdb_ratings  280444    8.555460\n",
      "2       Create index  imdb_ratings            0.805269\n",
      "\n",
      "\n",
      "    collections   count  size (MB)  storage (MB)\n",
      "0  imdb_ratings  280444         13             0\n",
      "\n",
      "\n",
      "\n",
      "           Operation Collection   Count  Time (sec)\n",
      "0  Convert dataframe      votes  280444    0.251635\n",
      "1    Store documents      votes  280444    8.193838\n",
      "2       Create index      votes            0.814476\n",
      "\n",
      "\n",
      "  collections   count  size (MB)  storage (MB)\n",
      "0       votes  280444         12             0\n",
      "\n",
      "\n"
     ]
    }
   ],
   "source": [
    "mongo.store(\n",
    "    *lite.pipeline(\n",
    "        '''\n",
    "            SELECT \n",
    "                title.id AS id, \n",
    "                movie_info_idx.info_type_id AS type, \n",
    "                movie_info_idx.info AS info\n",
    "            FROM title\n",
    "            INNER JOIN movie_info_idx\n",
    "            ON title.id = movie_info_idx.movie_id\n",
    "            WHERE title.kind_id = 1 \n",
    "            AND movie_info_idx.info_type_id in (100, 101)\n",
    "        ''',\n",
    "        col_filter={\n",
    "            ('type', 100): {'info': 'votes'},\n",
    "            ('type', 101): {'info': 'imdb_ratings'}\n",
    "        },\n",
    "        col_drop=['type'],\n",
    "        col_extract={\n",
    "            'votes': r'(?P<votes>\\d*)', \n",
    "            'imdb_ratings': r'(?P<imdb_ratings>\\d*(?:\\.\\d*)?)'\n",
    "        },\n",
    "        col_map={\n",
    "            'votes': lambda x: int(x) if x else np.nan, \n",
    "            'imdb_ratings': lambda x: float(x) if x else np.nan\n",
    "        }\n",
    "    )\n",
    ")"
   ]
  },
  {
   "cell_type": "code",
   "execution_count": 20,
   "metadata": {
    "collapsed": false,
    "nbpresent": {
     "id": "1c807438-9a4d-4567-b2bf-d99b9ae2205e"
    }
   },
   "outputs": [
    {
     "data": {
      "text/plain": [
       "{3734624: [1165380]}"
      ]
     },
     "execution_count": 20,
     "metadata": {},
     "output_type": "execute_result"
    }
   ],
   "source": [
    "mongo.collect('votes', filter={'id': 3734624})"
   ]
  },
  {
   "cell_type": "code",
   "execution_count": 21,
   "metadata": {
    "collapsed": false,
    "nbpresent": {
     "id": "f9d479dc-87aa-4472-9676-7611bcae4c15"
    }
   },
   "outputs": [
    {
     "data": {
      "text/plain": [
       "{3734624: [8.5]}"
      ]
     },
     "execution_count": 21,
     "metadata": {},
     "output_type": "execute_result"
    }
   ],
   "source": [
    "mongo.collect('imdb_ratings', filter={'id': 3734624})"
   ]
  },
  {
   "cell_type": "markdown",
   "metadata": {
    "nbpresent": {
     "id": "98ef4fa7-1100-408d-b13b-6c3d35cc2b98"
    }
   },
   "source": [
    "### Table `movie_keyword`"
   ]
  },
  {
   "cell_type": "markdown",
   "metadata": {},
   "source": [
    "* `keywords`: Keywords of a movie. Encoded with `keywords_map`."
   ]
  },
  {
   "cell_type": "code",
   "execution_count": 22,
   "metadata": {
    "collapsed": false
   },
   "outputs": [
    {
     "name": "stdout",
     "output_type": "stream",
     "text": [
      "# SQLite\n",
      "\n",
      "         Operation          Column    Count  Time (sec)\n",
      "0         Read SQL  [id, keywords]  3758557   78.341310\n",
      "1  Drop duplicates  [id, keywords]  3758557    2.304475\n",
      "\n",
      "\n",
      "  Operation          Column                                     Count  \\\n",
      "0     Group  [id, keywords]                                    267438   \n",
      "1    Encode        keywords  267438 (keywords), 147421 (keywords_map)   \n",
      "\n",
      "   Time (sec)  \n",
      "0   24.852768  \n",
      "1    4.601341  \n",
      "\n",
      "# MongoDB\n",
      "\n",
      "           Operation    Collection   Count  Time (sec)\n",
      "0  Convert dataframe  keywords_map  147421    0.297392\n",
      "1    Store documents  keywords_map  147421    5.193866\n",
      "2       Create index  keywords_map            0.477687\n",
      "\n",
      "\n",
      "    collections   count  size (MB)  storage (MB)\n",
      "0  keywords_map  147421          9             0\n",
      "\n",
      "\n",
      "\n",
      "           Operation Collection   Count  Time (sec)\n",
      "0  Convert dataframe   keywords  267438    0.423758\n",
      "1    Store documents   keywords  267438   12.722620\n",
      "2       Create index   keywords            0.929561\n",
      "\n",
      "\n",
      "  collections   count  size (MB)  storage (MB)\n",
      "0    keywords  267438         38             0\n",
      "\n",
      "\n"
     ]
    }
   ],
   "source": [
    "mongo.store(\n",
    "    *lite.pipeline(\n",
    "        '''\n",
    "            SELECT \n",
    "                title.id AS id, \n",
    "                keyword.keyword AS keywords\n",
    "            FROM title\n",
    "            INNER JOIN movie_keyword\n",
    "            ON title.id = movie_keyword.movie_id\n",
    "            INNER JOIN keyword\n",
    "            ON movie_keyword.keyword_id = keyword.id\n",
    "            WHERE title.kind_id = 1\n",
    "        ''',\n",
    "        col_encode={\n",
    "            'keywords': 'keywords_map'\n",
    "        }\n",
    "    )\n",
    ")"
   ]
  },
  {
   "cell_type": "code",
   "execution_count": 23,
   "metadata": {
    "collapsed": false
   },
   "outputs": [
    {
     "data": {
      "text/plain": [
       "{3734624: [u'2010s',\n",
       "  u'action-hero',\n",
       "  u'action-heroine',\n",
       "  u'aerial-shot',\n",
       "  u'aircraft',\n",
       "  u'airplane',\n",
       "  u'airplane-accident',\n",
       "  u'airplane-hijacking',\n",
       "  u'airport',\n",
       "  u'ak-47',\n",
       "  u'altered-version-of-studio-logo',\n",
       "  u'ambulance',\n",
       "  u'ambush',\n",
       "  u'american-abroad',\n",
       "  u'american-flag',\n",
       "  u'american-football',\n",
       "  u'analgesic',\n",
       "  u'anti-hero',\n",
       "  u'anti-heroine',\n",
       "  u'apartment',\n",
       "  u'appeared-on-tv-news',\n",
       "  u'apple',\n",
       "  u'armored-car',\n",
       "  u'armorer',\n",
       "  u'armory',\n",
       "  u'army',\n",
       "  u'assassin',\n",
       "  u'assassination-attempt',\n",
       "  u'attempted-robbery',\n",
       "  u'bag-over-head',\n",
       "  u'ball',\n",
       "  u'bane-the-character',\n",
       "  u'bankruptcy',\n",
       "  u'bar',\n",
       "  u'bare-chested-male',\n",
       "  u'barefoot',\n",
       "  u'based-on-comic',\n",
       "  u'based-on-comic-book',\n",
       "  u'bat',\n",
       "  u'bat-cave',\n",
       "  u'battle',\n",
       "  u'beaten-to-death',\n",
       "  u'beating',\n",
       "  u'betrayal',\n",
       "  u'billionaire',\n",
       "  u'blindness',\n",
       "  u'blockade',\n",
       "  u'blockbuster',\n",
       "  u'blood-transfusion',\n",
       "  u'bloody-body-of-child',\n",
       "  u'boardroom',\n",
       "  u'body-bag',\n",
       "  u'bodyguard',\n",
       "  u'bomb',\n",
       "  u'booby-trap',\n",
       "  u'bound-and-gagged',\n",
       "  u'bow-and-arrow',\n",
       "  u'box-office-hit',\n",
       "  u'brawl',\n",
       "  u'bridge',\n",
       "  u'bridge-collapse',\n",
       "  u'british-actor-playing-american-character',\n",
       "  u'broken-back',\n",
       "  u'bruce-wayne',\n",
       "  u'brutality',\n",
       "  u'burglar',\n",
       "  u'burglary',\n",
       "  u'bus',\n",
       "  u'butler',\n",
       "  u'c-130-hercules',\n",
       "  u'cafe',\n",
       "  u'cane',\n",
       "  u'captain',\n",
       "  u'car-accident',\n",
       "  u'car-crash',\n",
       "  u'car-motorcycle-chase',\n",
       "  u'carjacking',\n",
       "  u'cat-burglar',\n",
       "  u'catwoman',\n",
       "  u'cave',\n",
       "  u'cave-in',\n",
       "  u'cell-phone',\n",
       "  u'cell-phone-trace',\n",
       "  u'cemetery',\n",
       "  u'chanting',\n",
       "  u'chaos',\n",
       "  u\"character's-point-of-view-camera-shot\",\n",
       "  u'character-appears-on-front-page-of-a-newspaper',\n",
       "  u\"character-repeating-someone-else's-dialogue\",\n",
       "  u'chase',\n",
       "  u'chef',\n",
       "  u'child-in-peril',\n",
       "  u'child-murder',\n",
       "  u'christ-allegory',\n",
       "  u'cia',\n",
       "  u'cia-agent',\n",
       "  u'city-hall',\n",
       "  u'city-in-peril',\n",
       "  u'city-state',\n",
       "  u'claim-in-title',\n",
       "  u'class-differences',\n",
       "  u'cockney-accent',\n",
       "  u'collapsed-bridge',\n",
       "  u'combat',\n",
       "  u'coming-out-of-retirement',\n",
       "  u'commando',\n",
       "  u'commando-mission',\n",
       "  u'commando-unit',\n",
       "  u'commissioner',\n",
       "  u'compound-bow',\n",
       "  u'computer',\n",
       "  u'computer-cracker',\n",
       "  u'confidant',\n",
       "  u'congressman',\n",
       "  u'conspiracy',\n",
       "  u'construction-site',\n",
       "  u'construction-worker',\n",
       "  u'corporate-corruption',\n",
       "  u'corporate-executive',\n",
       "  u'corpse',\n",
       "  u'corrupt-businessman',\n",
       "  u'costume',\n",
       "  u'costumed-hero',\n",
       "  u'coup',\n",
       "  u'court',\n",
       "  u'court-trial',\n",
       "  u'cover-up',\n",
       "  u'crash',\n",
       "  u'crashing-through-a-window',\n",
       "  u'crime-fighter',\n",
       "  u'criminal-underworld',\n",
       "  u'critically-acclaimed',\n",
       "  u'cult-film',\n",
       "  u'dance',\n",
       "  u'dark-hero',\n",
       "  u'dark-heroine',\n",
       "  u'dc-comics',\n",
       "  u'dead-boy',\n",
       "  u'death',\n",
       "  u'death-of-child',\n",
       "  u'deception',\n",
       "  u'desert',\n",
       "  u'destruction',\n",
       "  u'destruction-of-a-bridge',\n",
       "  u'detective',\n",
       "  u'detonator',\n",
       "  u'die-hard-scenario',\n",
       "  u'disarming-someone',\n",
       "  u'disguise',\n",
       "  u'district-attorney',\n",
       "  u'doctor',\n",
       "  u'double-cross',\n",
       "  u'duel',\n",
       "  u'dungeon',\n",
       "  u'electronic-music-score',\n",
       "  u'elevator',\n",
       "  u'employee-dismissal',\n",
       "  u'end-of-trilogy',\n",
       "  u'engineer',\n",
       "  u'epic',\n",
       "  u'escalation',\n",
       "  u'escape',\n",
       "  u'escape-attempt',\n",
       "  u'evacuation',\n",
       "  u'evil-man',\n",
       "  u'execution',\n",
       "  u'exile',\n",
       "  u'experimental-technology',\n",
       "  u'exploding-airplane',\n",
       "  u'exploding-body',\n",
       "  u'exploding-bridge',\n",
       "  u'exploding-building',\n",
       "  u'exploding-car',\n",
       "  u'explosion',\n",
       "  u'explosive',\n",
       "  u'explosive-decompression',\n",
       "  u'face-mask',\n",
       "  u'faked-death',\n",
       "  u'falling-from-height',\n",
       "  u'falling-through-ice',\n",
       "  u'false-accusation',\n",
       "  u'famous-score',\n",
       "  u'father-figure',\n",
       "  u'female-hero',\n",
       "  u'female-leader',\n",
       "  u'female-security-guard',\n",
       "  u'female-thief',\n",
       "  u'female-vigilante',\n",
       "  u'female-villain',\n",
       "  u'female-warrior',\n",
       "  u'femme-fatale',\n",
       "  u'fictional-city',\n",
       "  u'fictional-war',\n",
       "  u'fight',\n",
       "  u'fight-the-system',\n",
       "  u'fight-to-the-death',\n",
       "  u'fighter-jet',\n",
       "  u'filmed-killing',\n",
       "  u'final-battle',\n",
       "  u'fingerprint',\n",
       "  u'fire',\n",
       "  u'fireplace',\n",
       "  u'fistfight',\n",
       "  u'flare',\n",
       "  u'flash-drive',\n",
       "  u'flashback',\n",
       "  u'flood',\n",
       "  u'foot-chase',\n",
       "  u'football',\n",
       "  u'football-field',\n",
       "  u'football-stadium',\n",
       "  u'footballer',\n",
       "  u'four-word-title',\n",
       "  u'fresh-start',\n",
       "  u'fugitive',\n",
       "  u'funeral',\n",
       "  u'fusion-reactor',\n",
       "  u'gadget',\n",
       "  u'gadget-car',\n",
       "  u'gadgetry',\n",
       "  u'garbage-truck',\n",
       "  u'gas',\n",
       "  u'gas-explosion',\n",
       "  u'gas-mask',\n",
       "  u'gasoline',\n",
       "  u'gatling-gun',\n",
       "  u'good-versus-evil',\n",
       "  u'gotham',\n",
       "  u'grand-piano',\n",
       "  u'graveyard',\n",
       "  u'guerilla-warfare',\n",
       "  u'gunfight',\n",
       "  u'hallucination',\n",
       "  u'hand-grenade',\n",
       "  u'hand-to-hand-combat',\n",
       "  u'hanged-man',\n",
       "  u'haunted-by-the-past',\n",
       "  u'head-butt',\n",
       "  u'heist',\n",
       "  u'held-at-gunpoint',\n",
       "  u'helicopter',\n",
       "  u'helmet',\n",
       "  u'henchman',\n",
       "  u'heroism',\n",
       "  u'hidden-door',\n",
       "  u'hidden-room',\n",
       "  u'high-tech-suit',\n",
       "  u'hit-in-the-face',\n",
       "  u'home-invasion',\n",
       "  u'home-safe',\n",
       "  u'homelessness',\n",
       "  u'hope',\n",
       "  u'hospital',\n",
       "  u'hospital-bed',\n",
       "  u'hostage',\n",
       "  u'hostage-drama',\n",
       "  u'hostage-killed',\n",
       "  u'hostage-situation',\n",
       "  u'hostage-taker',\n",
       "  u'hostile-takeover',\n",
       "  u'human-monster',\n",
       "  u'hummer',\n",
       "  u'hypodermic-needle',\n",
       "  u'ice',\n",
       "  u'impalement',\n",
       "  u'imprisonment',\n",
       "  u'inheritance',\n",
       "  u'injection',\n",
       "  u'innocent-person-killed',\n",
       "  u'interrogation',\n",
       "  u'investigation',\n",
       "  u'ipad',\n",
       "  u'isolation',\n",
       "  u'italy',\n",
       "  u'jail-cell',\n",
       "  u'judge',\n",
       "  u'jumping-from-a-rooftop',\n",
       "  u'jumping-from-height',\n",
       "  u'jumping-through-a-window',\n",
       "  u'key',\n",
       "  u'kicked-in-the-face',\n",
       "  u'kicked-in-the-stomach',\n",
       "  u'kidnapping',\n",
       "  u'killer',\n",
       "  u'kiss',\n",
       "  u'kitchen',\n",
       "  u'knife',\n",
       "  u'knocked-out',\n",
       "  u'knocked-out-with-a-gun-butt',\n",
       "  u'knocked-out-with-gun-butt',\n",
       "  u'lambourgini-gallardo',\n",
       "  u'laptop',\n",
       "  u'last-will-and-testament',\n",
       "  u'lawlessness',\n",
       "  u'lawyer',\n",
       "  u'leg-brace',\n",
       "  u'legend',\n",
       "  u'lens-flare',\n",
       "  u'letter',\n",
       "  u'letter-of-resignation',\n",
       "  u'letter-read-aloud',\n",
       "  u'limousine',\n",
       "  u'little-black-dress',\n",
       "  u\"looking-at-one's-self-in-a-mirror\",\n",
       "  u'looting',\n",
       "  u'loss-of-fortune',\n",
       "  u'loyalty',\n",
       "  u'm109-paladin-self-propelled-howitzer',\n",
       "  u'machine-gun',\n",
       "  u'maid',\n",
       "  u'man-with-glasses',\n",
       "  u'manhole',\n",
       "  u'manor',\n",
       "  u'manor-house',\n",
       "  u'mansion',\n",
       "  u'martial-arts',\n",
       "  u'mask',\n",
       "  u'masked-hero',\n",
       "  u'masked-man',\n",
       "  u'masked-vigilante',\n",
       "  u'masked-woman',\n",
       "  u'massacre',\n",
       "  u'master-thief',\n",
       "  u'mayor',\n",
       "  u'media-coverage',\n",
       "  u'memorial',\n",
       "  u'mercenary',\n",
       "  u'metal-detector',\n",
       "  u'mid-air-transfer',\n",
       "  u'military',\n",
       "  u'missile',\n",
       "  u'mission',\n",
       "  u'mixed-martial-arts',\n",
       "  u'motorcycle',\n",
       "  u'motorcycle-chase',\n",
       "  u'motorcycle-stunt',\n",
       "  u'murder',\n",
       "  u'muscleman',\n",
       "  u'mushroom-cloud',\n",
       "  u'mysterious-woman',\n",
       "  u'national-anthem',\n",
       "  u'national-guard',\n",
       "  u'neck-breaking',\n",
       "  u'necklace',\n",
       "  u'neo-noir',\n",
       "  u'news-report',\n",
       "  u'newspaper-clipping',\n",
       "  u'newspaper-headline',\n",
       "  u'night-cityscape',\n",
       "  u'no-opening-credits',\n",
       "  u'no-title-at-beginning',\n",
       "  u'nuclear-bomb',\n",
       "  u'nuclear-explosion',\n",
       "  u'nuclear-physicist',\n",
       "  u'nuclear-threat',\n",
       "  u'nuclear-war',\n",
       "  u'offscreen-killing',\n",
       "  u'on-the-run',\n",
       "  u'one-against-many',\n",
       "  u'one-man-army',\n",
       "  u'one-woman-army',\n",
       "  u'orphan',\n",
       "  u'orphanage',\n",
       "  u'paranoia',\n",
       "  u'parking-garage',\n",
       "  u'party',\n",
       "  u'pearl-necklace',\n",
       "  u'pentagon',\n",
       "  u'photograph',\n",
       "  u'physicist',\n",
       "  u'piano',\n",
       "  u'pickpocket',\n",
       "  u'pistol',\n",
       "  u'pistol-whip',\n",
       "  u'pit',\n",
       "  u'police',\n",
       "  u'police-chase',\n",
       "  u'police-commissioner',\n",
       "  u'police-department',\n",
       "  u'police-detective',\n",
       "  u'police-officer',\n",
       "  u'police-officer-killed',\n",
       "  u'police-officer-shot',\n",
       "  u'police-officer-shot-in-the-back',\n",
       "  u'police-officer-shot-in-the-chest',\n",
       "  u'police-raid',\n",
       "  u'police-shootout',\n",
       "  u'police-station',\n",
       "  u'police-vigilantism',\n",
       "  u'policeman',\n",
       "  u'power-outage',\n",
       "  u'president',\n",
       "  u'press-conference',\n",
       "  u'presumed-dead',\n",
       "  u'priest',\n",
       "  u'prison',\n",
       "  u'prison-escape',\n",
       "  u'prison-guard',\n",
       "  u'prison-officer',\n",
       "  u'prison-riot',\n",
       "  u'prisoner',\n",
       "  u'product-placement',\n",
       "  u'psychopath',\n",
       "  u'punched-in-the-chest',\n",
       "  u'punched-in-the-face',\n",
       "  u'quitting-job',\n",
       "  u'race-against-time',\n",
       "  u'recluse',\n",
       "  u'recovery',\n",
       "  u'redemption',\n",
       "  u'reference-to-robin-hood',\n",
       "  u'release-from-prison',\n",
       "  u'reluctant-hero',\n",
       "  u'rescue',\n",
       "  u'rescue-attempt',\n",
       "  u'returning-character-killed-off',\n",
       "  u'revelation',\n",
       "  u'revenge',\n",
       "  u'revolution',\n",
       "  u'rifle',\n",
       "  u'riot',\n",
       "  u'road-blockade',\n",
       "  u'robbery',\n",
       "  u'rocket',\n",
       "  u'rooftop',\n",
       "  u'rookie-cop',\n",
       "  u'rope',\n",
       "  u'rumble',\n",
       "  u'russian',\n",
       "  u'sabotage',\n",
       "  u'safe',\n",
       "  u'satellite',\n",
       "  u'sawed-off-shotgun',\n",
       "  u'school-bus',\n",
       "  u'scientist',\n",
       "  u'screaming',\n",
       "  u'secret-door',\n",
       "  u'secret-room',\n",
       "  u'security-camera',\n",
       "  u'security-guard',\n",
       "  u'seduction',\n",
       "  u'self-sacrifice',\n",
       "  u'sequel',\n",
       "  u'sequel-to-a-reboot',\n",
       "  u'sequel-to-cult-favorite',\n",
       "  u'sewer',\n",
       "  u'shaving',\n",
       "  u'shoeshine',\n",
       "  u'shootout',\n",
       "  u'shot-in-the-back',\n",
       "  u'shot-in-the-chest',\n",
       "  u'shot-in-the-leg',\n",
       "  u'shot-to-death',\n",
       "  u'shotgun',\n",
       "  u'show-trial',\n",
       "  u'showdown',\n",
       "  u'siege',\n",
       "  u'sniper',\n",
       "  u'sniper-rifle',\n",
       "  u'snow',\n",
       "  u'social-commentary',\n",
       "  u'socialite',\n",
       "  u'sociopath',\n",
       "  u'soldier',\n",
       "  u'special-forces',\n",
       "  u'sports-car',\n",
       "  u'stabbed-in-the-back',\n",
       "  u'stabbed-in-the-chest',\n",
       "  u'stadium',\n",
       "  u'star-spangled-banner',\n",
       "  u'statue',\n",
       "  u'stealing-a-car',\n",
       "  u'stock-exchange',\n",
       "  u'stocktrader',\n",
       "  u'strangulation',\n",
       "  u'street-shootout',\n",
       "  u'strong-female-character',\n",
       "  u'strong-man',\n",
       "  u'strongman',\n",
       "  u'stylized-violence',\n",
       "  u'subjective-camera',\n",
       "  u'subterranean',\n",
       "  u'subway',\n",
       "  u'suicide',\n",
       "  u'super-strength',\n",
       "  u'super-villain',\n",
       "  u'superhero',\n",
       "  u'surprise-ending',\n",
       "  u'surveillance',\n",
       "  u'suspense',\n",
       "  u'swat',\n",
       "  u'swat-team',\n",
       "  u'talia-al-ghul',\n",
       "  u'tank',\n",
       "  u'taxi',\n",
       "  u'terrorism',\n",
       "  u'terrorist',\n",
       "  u'terrorist-attack',\n",
       "  u'terrorist-group',\n",
       "  u'terrorist-plot',\n",
       "  u'theft',\n",
       "  u'thief',\n",
       "  u'thigh-boots',\n",
       "  u'third-part',\n",
       "  u'thug',\n",
       "  u'time-bomb',\n",
       "  u'timebomb',\n",
       "  u'title-at-the-end',\n",
       "  u'torture',\n",
       "  u'tough-girl',\n",
       "  u'tough-guy',\n",
       "  u'tow-truck',\n",
       "  u'tracking-device',\n",
       "  u'tragedy',\n",
       "  u'tragic-hero',\n",
       "  u'tragic-villain',\n",
       "  u'training',\n",
       "  u'trap',\n",
       "  u'trapped',\n",
       "  u'trial',\n",
       "  u'tribute',\n",
       "  u'truck',\n",
       "  u'tunnel',\n",
       "  u'tyranny',\n",
       "  u'u.s.-army',\n",
       "  u'u.s.-president',\n",
       "  u'underground',\n",
       "  u'urban-setting',\n",
       "  u'uzi',\n",
       "  u'vigilante',\n",
       "  u'vigilantism',\n",
       "  u'villainess',\n",
       "  u'walkie-talkie',\n",
       "  u'walking-cane',\n",
       "  u'warlord',\n",
       "  u'warrior',\n",
       "  u'watching-tv',\n",
       "  u'water',\n",
       "  u'waterfall',\n",
       "  u'wealth',\n",
       "  u'wet-jeans',\n",
       "  u'winter',\n",
       "  u'woman-fights-a-man',\n",
       "  u'woman-fights-man',\n",
       "  u'woman-kills-a-man',\n",
       "  u'woman-kills-man',\n",
       "  u'written-by-director',\n",
       "  u'young-version-of-character']}"
      ]
     },
     "execution_count": 23,
     "metadata": {},
     "output_type": "execute_result"
    }
   ],
   "source": [
    "mongo.collect('keywords', filter={'id': 3734624}, applymap='keywords_map')"
   ]
  },
  {
   "cell_type": "markdown",
   "metadata": {
    "nbpresent": {
     "id": "2f302c04-47b4-4efe-8a05-b3546b404ee7"
    }
   },
   "source": [
    "### Table `movie_companies`"
   ]
  },
  {
   "cell_type": "markdown",
   "metadata": {},
   "source": [
    "* `prod_companies`: Production companies of a movie. Encoded with `prod_companies_map`."
   ]
  },
  {
   "cell_type": "code",
   "execution_count": 24,
   "metadata": {
    "collapsed": false
   },
   "outputs": [
    {
     "name": "stdout",
     "output_type": "stream",
     "text": [
      "# SQLite\n",
      "\n",
      "         Operation                Column   Count  Time (sec)\n",
      "0         Read SQL  [id, prod_companies]  874878   41.251127\n",
      "1  Drop duplicates  [id, prod_companies]  872175    0.440080\n",
      "\n",
      "\n",
      "  Operation                Column  \\\n",
      "0     Group  [id, prod_companies]   \n",
      "1    Encode        prod_companies   \n",
      "\n",
      "                                               Count  Time (sec)  \n",
      "0                                             634875   56.416439  \n",
      "1  634875 (prod_companies), 222116 (prod_companie...    2.437642  \n",
      "\n",
      "# MongoDB\n",
      "\n",
      "           Operation          Collection   Count  Time (sec)\n",
      "0  Convert dataframe  prod_companies_map  222116    0.355735\n",
      "1    Store documents  prod_companies_map  222116    7.648263\n",
      "2       Create index  prod_companies_map            0.625628\n",
      "\n",
      "\n",
      "          collections   count  size (MB)  storage (MB)\n",
      "0  prod_companies_map  222116         14             0\n",
      "\n",
      "\n",
      "\n",
      "           Operation      Collection   Count  Time (sec)\n",
      "0  Convert dataframe  prod_companies  634875    0.834945\n",
      "1    Store documents  prod_companies  634875   19.201232\n",
      "2       Create index  prod_companies            1.751136\n",
      "\n",
      "\n",
      "      collections   count  size (MB)  storage (MB)\n",
      "0  prod_companies  634875         30             0\n",
      "\n",
      "\n"
     ]
    }
   ],
   "source": [
    "mongo.store(\n",
    "    *lite.pipeline(\n",
    "        '''\n",
    "            SELECT \n",
    "                title.id AS id,\n",
    "                company_name.name AS prod_companies\n",
    "            FROM title\n",
    "            INNER JOIN movie_companies\n",
    "            ON title.id = movie_companies.movie_id\n",
    "            INNER JOIN company_name\n",
    "            ON movie_companies.company_id = company_name.id\n",
    "            WHERE title.kind_id = 1 \n",
    "            AND movie_companies.company_type_id = 2\n",
    "        ''',\n",
    "        col_encode={\n",
    "            'prod_companies': 'prod_companies_map'\n",
    "        }\n",
    "    )\n",
    ")"
   ]
  },
  {
   "cell_type": "code",
   "execution_count": 25,
   "metadata": {
    "collapsed": false,
    "nbpresent": {
     "id": "10933d92-69b9-4bf6-8ca7-147cf0f5f4ac"
    }
   },
   "outputs": [
    {
     "data": {
      "text/plain": [
       "{3734624: [u'DC Comics',\n",
       "  u'DC Entertainment',\n",
       "  u'Legendary Entertainment',\n",
       "  u'Syncopy',\n",
       "  u'Warner Bros.']}"
      ]
     },
     "execution_count": 25,
     "metadata": {},
     "output_type": "execute_result"
    }
   ],
   "source": [
    "mongo.collect('prod_companies', filter={'id': 3734624}, applymap='prod_companies_map')"
   ]
  },
  {
   "cell_type": "markdown",
   "metadata": {
    "nbpresent": {
     "id": "8d9cbd7a-0f0e-4158-8aa8-1f9cc2791b36"
    }
   },
   "source": [
    "### Table `cast_info`"
   ]
  },
  {
   "cell_type": "markdown",
   "metadata": {},
   "source": [
    "* `cast`: Actors of a movie. Encoded with `names_map`. \n",
    "* `directors`: Movie directors of a movie. Encoded with `names_map`."
   ]
  },
  {
   "cell_type": "code",
   "execution_count": 26,
   "metadata": {
    "collapsed": false
   },
   "outputs": [
    {
     "name": "stdout",
     "output_type": "stream",
     "text": [
      "# SQLite\n",
      "\n",
      "         Operation      Column    Count  Time (sec)\n",
      "0         Read SQL  [id, cast]  7608461  737.768490\n",
      "1  Drop duplicates  [id, cast]  7503299    2.477453\n",
      "\n",
      "\n",
      "  Operation      Column   Count  Time (sec)\n",
      "0     Group  [id, cast]  725011   60.536254\n",
      "1    Reduce        cast  725011    0.847770\n",
      "\n",
      "# MongoDB\n",
      "\n",
      "           Operation Collection   Count  Time (sec)\n",
      "0  Convert dataframe       cast  725011    1.558348\n",
      "1    Store documents       cast  725011   27.570685\n",
      "2       Create index       cast            2.495254\n",
      "\n",
      "\n",
      "  collections   count  size (MB)  storage (MB)\n",
      "0        cast  725011         47             0\n",
      "\n",
      "\n",
      "# SQLite\n",
      "\n",
      "         Operation           Column   Count  Time (sec)\n",
      "0         Read SQL  [id, directors]  945590   63.478911\n",
      "1  Drop duplicates  [id, directors]  944038    0.269218\n",
      "\n",
      "\n",
      "  Operation           Column   Count  Time (sec)\n",
      "0     Group  [id, directors]  853946   66.910929\n",
      "\n",
      "# MongoDB\n",
      "\n",
      "           Operation Collection   Count  Time (sec)\n",
      "0  Convert dataframe  directors  853946    1.414246\n",
      "1    Store documents  directors  853946   25.605341\n",
      "2       Create index  directors            2.602161\n",
      "\n",
      "\n",
      "  collections   count  size (MB)  storage (MB)\n",
      "0   directors  853946         39             0\n",
      "\n",
      "\n"
     ]
    }
   ],
   "source": [
    "mongo.store(\n",
    "    *lite.pipeline(\n",
    "        '''\n",
    "            SELECT title.id AS id, cast_info.person_id AS cast\n",
    "            FROM title\n",
    "            INNER JOIN cast_info\n",
    "            ON title.id = cast_info.movie_id\n",
    "            WHERE title.kind_id = 1 \n",
    "            AND cast_info.role_id IN (1, 2)\n",
    "        ''',\n",
    "        col_reduce={\n",
    "            'cast': lambda x: x[:5] if len(x)>5 else x\n",
    "        },\n",
    "    )\n",
    ")\n",
    "mongo.store(\n",
    "    *lite.pipeline(\n",
    "        '''\n",
    "            SELECT title.id AS id, cast_info.person_id AS directors\n",
    "            FROM title\n",
    "            INNER JOIN cast_info\n",
    "            ON title.id = cast_info.movie_id\n",
    "            WHERE title.kind_id = 1 \n",
    "            AND cast_info.role_id = 8\n",
    "        '''\n",
    "    )\n",
    ")"
   ]
  },
  {
   "cell_type": "code",
   "execution_count": 27,
   "metadata": {
    "collapsed": false,
    "nbpresent": {
     "id": "12895f22-ed7d-4ef5-a123-ea0849f9d92b"
    },
    "scrolled": true
   },
   "outputs": [
    {
     "data": {
      "text/plain": [
       "{3734624: [u'Abbink, Marc',\n",
       "  u'Abbott, Joseph M.',\n",
       "  u'Aboutboul, Alon',\n",
       "  u'Adams, Isiah',\n",
       "  u'Adkins, Donnie']}"
      ]
     },
     "execution_count": 27,
     "metadata": {},
     "output_type": "execute_result"
    }
   ],
   "source": [
    "mongo.collect('cast', filter={'id': 3734624}, applymap='names_map')"
   ]
  },
  {
   "cell_type": "code",
   "execution_count": 28,
   "metadata": {
    "collapsed": false,
    "nbpresent": {
     "id": "917a6220-432d-454b-960a-7e8b7d58018f"
    }
   },
   "outputs": [
    {
     "data": {
      "text/plain": [
       "{3734624: [u'Nolan, Christopher']}"
      ]
     },
     "execution_count": 28,
     "metadata": {},
     "output_type": "execute_result"
    }
   ],
   "source": [
    "mongo.collect('directors', filter={'id': 3734624}, applymap='names_map')"
   ]
  },
  {
   "cell_type": "markdown",
   "metadata": {},
   "source": [
    "### Person attributes"
   ]
  },
  {
   "cell_type": "markdown",
   "metadata": {},
   "source": [
    "Collections below contain person attributes. Those attributes will be applied to nodes of person network projection.\n",
    "\n",
    "Collections with original attribute values\n",
    "    \n",
    "| Collection | Sea | Result | Type | \n",
    "|-|-|-|\n",
    "| `birth_years` | `person_id` | birth years | list of `int` |\n",
    "\n",
    "Collections with encoded attribute values\n",
    "\n",
    "| Collection | Search by | Result | Type | \n",
    "|-|-|-|\n",
    "| `birth_places` | `person_id` | `birth_place_id` | list of `int` |\n",
    "\n",
    "Collections for decoding encoded attribute values\n",
    "\n",
    "| Collection | Search by | Result | Type |\n",
    "|-|-|-|\n",
    "| `names_map` | `person_id` | names | list of `str` |\n",
    "| `birth_places_map` | `birth_place_id` | birth places | list of `str` |"
   ]
  },
  {
   "cell_type": "markdown",
   "metadata": {},
   "source": [
    "### Table `name`"
   ]
  },
  {
   "cell_type": "markdown",
   "metadata": {},
   "source": [
    "Map of names of actors and directors of all movies. Unlike previous collections, names are keyed by `person_ids`, as we store person attributes."
   ]
  },
  {
   "cell_type": "code",
   "execution_count": 29,
   "metadata": {
    "collapsed": false
   },
   "outputs": [
    {
     "name": "stdout",
     "output_type": "stream",
     "text": [
      "# SQLite\n",
      "\n",
      "         Operation           Column    Count   Time (sec)\n",
      "0         Read SQL  [id, names_map]  8554051  1081.075714\n",
      "1  Drop duplicates  [id, names_map]  2851082     4.111867\n",
      "\n",
      "\n",
      "  Operation           Column    Count  Time (sec)\n",
      "0     Group  [id, names_map]  2851082  251.778594\n",
      "\n",
      "# MongoDB\n",
      "\n",
      "           Operation Collection    Count  Time (sec)\n",
      "0  Convert dataframe  names_map  2851082    4.371699\n",
      "1    Store documents  names_map  2851082   88.042715\n",
      "2       Create index  names_map             9.467836\n",
      "\n",
      "\n",
      "  collections    count  size (MB)  storage (MB)\n",
      "0   names_map  2851082        172            59\n",
      "\n",
      "\n"
     ]
    }
   ],
   "source": [
    "mongo.store(\n",
    "    *lite.pipeline(\n",
    "        '''\n",
    "            SELECT name.id as id, name as names_map\n",
    "            FROM name\n",
    "            INNER JOIN cast_info\n",
    "            ON name.id = cast_info.person_id\n",
    "            INNER JOIN title\n",
    "            ON cast_info.movie_id = title.id\n",
    "            WHERE title.kind_id = 1\n",
    "            AND (cast_info.role_id IN (1, 2) OR cast_info.role_id = 8)\n",
    "        '''\n",
    "    )\n",
    ")"
   ]
  },
  {
   "cell_type": "markdown",
   "metadata": {},
   "source": [
    "### Table `person_info`"
   ]
  },
  {
   "cell_type": "markdown",
   "metadata": {},
   "source": [
    "* `birth_places`: Birth place of a person. Encoded with `birth_places_map`.\n",
    "* `birth_years`: Birth year of a person.\n",
    "* `heights`: Height of a person in cm."
   ]
  },
  {
   "cell_type": "code",
   "execution_count": 30,
   "metadata": {
    "collapsed": false
   },
   "outputs": [
    {
     "name": "stdout",
     "output_type": "stream",
     "text": [
      "# SQLite\n",
      "\n",
      "         Operation                           Column    Count   Time (sec)\n",
      "0         Read SQL                 [id, type, info]  8277731  1369.379506\n",
      "1  Drop duplicates                 [id, type, info]   691298     1.935623\n",
      "2           Filter   df[type==21] info->birth_years   279025     0.060522\n",
      "3           Filter  df[type==20] info->birth_places   262604     0.049687\n",
      "4           Filter       df[type==22] info->heights   149669     0.029224\n",
      "\n",
      "\n",
      "  Operation                    Column   Count  Time (sec)\n",
      "0     Parse  birth_years->birth_years  279025    0.831655\n",
      "1       Map               birth_years  278288    0.413513\n",
      "2     Group         [id, birth_years]  278288   22.006580\n",
      "\n",
      "\n",
      "  Operation                      Column  \\\n",
      "0     Parse  birth_places->birth_places   \n",
      "1     Group          [id, birth_places]   \n",
      "2    Encode                birth_places   \n",
      "\n",
      "                                           Count  Time (sec)  \n",
      "0                                         262604    1.528038  \n",
      "1                                         250989   22.225778  \n",
      "2  250989 (birth_places), 385 (birth_places_map)    0.739321  \n",
      "\n",
      "\n",
      "  Operation         Column   Count  Time (sec)\n",
      "0       Map        heights  149669    1.714669\n",
      "1     Group  [id, heights]  149667   11.291817\n",
      "\n",
      "# MongoDB\n",
      "\n",
      "           Operation   Collection   Count  Time (sec)\n",
      "0  Convert dataframe  birth_years  278288    0.520987\n",
      "1    Store documents  birth_years  278288    8.495308\n",
      "2       Create index  birth_years            0.939193\n",
      "\n",
      "\n",
      "   collections   count  size (MB)  storage (MB)\n",
      "0  birth_years  278288         12             0\n",
      "\n",
      "\n",
      "\n",
      "           Operation        Collection Count  Time (sec)\n",
      "0  Convert dataframe  birth_places_map   385    0.000357\n",
      "1    Store documents  birth_places_map   385    0.192946\n",
      "2       Create index  birth_places_map          0.059531\n",
      "\n",
      "\n",
      "        collections  count  size (MB)  storage (MB)\n",
      "0  birth_places_map    385          0             0\n",
      "\n",
      "\n",
      "\n",
      "           Operation    Collection   Count  Time (sec)\n",
      "0  Convert dataframe  birth_places  250989    0.498839\n",
      "1    Store documents  birth_places  250989    7.270663\n",
      "2       Create index  birth_places            0.779423\n",
      "\n",
      "\n",
      "    collections   count  size (MB)  storage (MB)\n",
      "0  birth_places  250989         11             0\n",
      "\n",
      "\n",
      "\n",
      "           Operation Collection   Count  Time (sec)\n",
      "0  Convert dataframe    heights  149667    0.313449\n",
      "1    Store documents    heights  149667    4.793511\n",
      "2       Create index    heights            0.424137\n",
      "\n",
      "\n",
      "  collections   count  size (MB)  storage (MB)\n",
      "0     heights  149667          7             0\n",
      "\n",
      "\n"
     ]
    }
   ],
   "source": [
    "def inches_to_cm(inches_str):\n",
    "    foots_res = re.search(r'(.*)\\'', inches_str)\n",
    "    if foots_res:\n",
    "        if foots_res.group(1).isdigit():\n",
    "            foots = int(foots_res.group(1))\n",
    "            inches_res = re.search(r'\\'\\s*(\\d*)(\\s+\\d*\\/\\d*)?\\\"', inches_str)\n",
    "            inches = 0\n",
    "            if inches_res:\n",
    "                if inches_res.group(1):\n",
    "                    inches += int(inches_res.group(1))\n",
    "                if inches_res.group(2):\n",
    "                    inches += float(eval(inches_res.group(2)+'.0'))\n",
    "            return int(foots * 30.48 + inches * 2.54)\n",
    "    return np.nan\n",
    "def parse_height(height_str):\n",
    "    if height_str:\n",
    "        search = re.search(r'(\\d*)\\s*cm', height_str)\n",
    "        if search:\n",
    "            if search.group(1):\n",
    "                return int(search.group(1))\n",
    "        else:\n",
    "            return inches_to_cm(height_str)\n",
    "    return np.nan\n",
    "mongo.store(\n",
    "    *lite.pipeline(\n",
    "        '''\n",
    "            SELECT \n",
    "                cast_info.person_id AS id, \n",
    "                person_info.info_type_id AS type, \n",
    "                person_info.info AS info\n",
    "            FROM title\n",
    "            INNER JOIN cast_info\n",
    "            ON title.id = cast_info.movie_id\n",
    "            INNER JOIN person_info\n",
    "            ON cast_info.person_id = person_info.person_id\n",
    "            WHERE title.kind_id = 1\n",
    "            AND (cast_info.role_id IN (1, 2) OR cast_info.role_id = 8)\n",
    "            AND person_info.info_type_id in (20, 21, 22)\n",
    "        ''',\n",
    "        col_filter={\n",
    "            ('type', 20): {'info': 'birth_places'},\n",
    "            ('type', 21): {'info': 'birth_years'},\n",
    "            ('type', 22): {'info': 'heights'}\n",
    "        },\n",
    "        col_drop=['type'],\n",
    "        col_extract={\n",
    "            'birth_places': r'\\s*(?P<birth_places>[\\w]+)$', \n",
    "            'birth_years': r'(?P<birth_years>\\d{4})$'\n",
    "        },\n",
    "        col_map={\n",
    "            'birth_years': lambda x: int(x) if x else np.nan,\n",
    "            'heights': parse_height\n",
    "        },\n",
    "        col_encode={\n",
    "            'birth_places': 'birth_places_map'\n",
    "        }\n",
    "    )\n",
    ")"
   ]
  },
  {
   "cell_type": "code",
   "execution_count": 31,
   "metadata": {
    "collapsed": false
   },
   "outputs": [
    {
     "data": {
      "text/plain": [
       "{1615125: [u'UK']}"
      ]
     },
     "execution_count": 31,
     "metadata": {},
     "output_type": "execute_result"
    }
   ],
   "source": [
    "mongo.collect('birth_places', filter={'id': 1615125}, applymap='birth_places_map')"
   ]
  },
  {
   "cell_type": "code",
   "execution_count": 32,
   "metadata": {
    "collapsed": false,
    "nbpresent": {
     "id": "c36138f9-3507-4a10-b593-3f6b7aa53bdf"
    }
   },
   "outputs": [
    {
     "data": {
      "text/plain": [
       "{1615125: [1970]}"
      ]
     },
     "execution_count": 32,
     "metadata": {},
     "output_type": "execute_result"
    }
   ],
   "source": [
    "mongo.collect('birth_years', filter={'id': 1615125})"
   ]
  },
  {
   "cell_type": "code",
   "execution_count": 33,
   "metadata": {
    "collapsed": false
   },
   "outputs": [
    {
     "data": {
      "text/plain": [
       "{1615125: [181.0]}"
      ]
     },
     "execution_count": 33,
     "metadata": {},
     "output_type": "execute_result"
    }
   ],
   "source": [
    "mongo.collect('heights', filter={'id': 1615125})"
   ]
  },
  {
   "cell_type": "markdown",
   "metadata": {
    "nbpresent": {
     "id": "06294ad9-731c-4843-8e1f-9128a4f2a7d7"
    }
   },
   "source": [
    "## Import of user reviews"
   ]
  },
  {
   "cell_type": "markdown",
   "metadata": {},
   "source": [
    "**Large Movie Review Dataset v1.0** fetched from http://ai.stanford.edu/~amaas/data/sentiment/\n",
    "\n",
    "> The core dataset contains 50,000 reviews split evenly into 25k train and 25k test sets. The overall distribution of labels is balanced (25k pos and 25k neg). We also include an additional 50,000 unlabeled documents for unsupervised learning. In the entire collection, no more than 30 reviews are allowed for any given movie because reviews for the same movie tend to have correlated ratings.\n",
    "\n",
    "The dataset provides unclassified as well as classified (by sentiment) user reviews. We used unlabeled data, as we are not interested in already provided sentiments, but want to calculate sentiments on ourselfes. \n",
    "\n",
    "Within the [train/unsup/] directory, reviews are stored in text files named following the convention [[id]\\_[rating].txt] where [id] is a unique id and [rating] is the star rating for that review on a 1-10 scale. The [train/unsup/] directory has 0 for all ratings because the ratings are omitted for this portion of the dataset. For example, the file [train/unsup/200\\_0.txt] is the text for a test set example with unique id 200, which corresponds to the line 200 in [urls\\_[pos, neg, unsup].txt] file. This way we are able to connect reviews and IMDB ids.\n",
    "\n",
    "\n",
    "All reviews are imported into one single collection. User reviews are keyed by IMDB ids rather than `movie_id`. \n",
    "    \n",
    "| Collection | Search by | Result | \n",
    "|-|-|\n",
    "| `user_reviews` | `imdb_id` | reviews |"
   ]
  },
  {
   "cell_type": "code",
   "execution_count": 34,
   "metadata": {
    "collapsed": false
   },
   "outputs": [],
   "source": [
    "from lib.reviewsparser import ReviewsParser\n",
    "revparser = ReviewsParser(\n",
    "    '/Users/olegpolakow/Documents/imdb_data/reviews/files', \n",
    "    '/Users/olegpolakow/Documents/imdb_data/reviews/urls.txt'\n",
    ")"
   ]
  },
  {
   "cell_type": "code",
   "execution_count": 41,
   "metadata": {
    "collapsed": false
   },
   "outputs": [
    {
     "name": "stdout",
     "output_type": "stream",
     "text": [
      "# ReviewsParser\n",
      "\n",
      "              Operation  Count  Time (sec)\n",
      "0             Parse ids  50000    0.141838\n",
      "1           Parse paths  50000    0.568468\n",
      "2                  Join   7091    3.991965\n",
      "3  Convert to dataframe   7091    0.001628\n",
      "\n",
      "# MongoDB\n",
      "\n",
      "           Operation    Collection Count  Time (sec)\n",
      "0  Convert dataframe  user_reviews  7091    0.005638\n",
      "1    Store documents  user_reviews  7091    3.031173\n",
      "2       Create index  user_reviews          0.100755\n",
      "\n",
      "\n",
      "    collections  count  size (MB)  storage (MB)\n",
      "0  user_reviews   7091         64             0\n",
      "\n",
      "\n"
     ]
    }
   ],
   "source": [
    "mongo.store(revparser.parse())"
   ]
  },
  {
   "cell_type": "markdown",
   "metadata": {
    "collapsed": true
   },
   "source": [
    "## Summary"
   ]
  },
  {
   "cell_type": "code",
   "execution_count": 42,
   "metadata": {
    "collapsed": false
   },
   "outputs": [
    {
     "name": "stdout",
     "output_type": "stream",
     "text": [
      "\n",
      "           collections    count  size (MB)  storage (MB)\n",
      "2            names_map  2851082        172            80\n",
      "22      prod_countries   951419         44            18\n",
      "9        release_years   933715         46            14\n",
      "4           titles_map   933715         59            28\n",
      "19              genres   886236         46            22\n",
      "7            directors   853946         39            19\n",
      "5            languages   848085         39            13\n",
      "6                 cast   725011         47            29\n",
      "16      prod_companies   634875         30            14\n",
      "18            runtimes   613963         30            14\n",
      "20               votes   280444         12             6\n",
      "0         imdb_ratings   280444         13             6\n",
      "8          birth_years   278288         12             6\n",
      "14            keywords   267438         38            29\n",
      "23        birth_places   250989         11             4\n",
      "15  prod_companies_map   222116         14             7\n",
      "17               plots   218348        148           109\n",
      "12             heights   149667          7             2\n",
      "13        keywords_map   147421          9             5\n",
      "11             budgets   101221          4             2\n",
      "21          omdb_files    64176         57            25\n",
      "3                gross    15568          0             0\n",
      "25        user_reviews     7091         64            45\n",
      "26    birth_places_map      385          0             0\n",
      "1        languages_map      342          0             0\n",
      "10  prod_countries_map      241          0             0\n",
      "24          genres_map       28          0             0\n",
      "\n",
      "\n",
      "\n",
      "             count  size (MB)  storage (MB)\n",
      "0  total  12516254        951           507\n",
      "\n"
     ]
    }
   ],
   "source": [
    "mongo.stats(total=True)"
   ]
  },
  {
   "cell_type": "markdown",
   "metadata": {},
   "source": [
    "We see that using filtering and intelligent mapping we were able to shrink the total size of IMDB data from 12 GB to 1 GB. "
   ]
  }
 ],
 "metadata": {
  "anaconda-cloud": {},
  "kernelspec": {
   "display_name": "Python [default]",
   "language": "python",
   "name": "python2"
  },
  "language_info": {
   "codemirror_mode": {
    "name": "ipython",
    "version": 2
   },
   "file_extension": ".py",
   "mimetype": "text/x-python",
   "name": "python",
   "nbconvert_exporter": "python",
   "pygments_lexer": "ipython2",
   "version": "2.7.12"
  },
  "nbpresent": {
   "slides": {
    "03799d54-dac0-44e3-a5a6-447e2f4d9a59": {
     "id": "03799d54-dac0-44e3-a5a6-447e2f4d9a59",
     "prev": "7288062e-9a85-4c3e-998a-49b371fcf8c8",
     "regions": {
      "6b3aa204-25fc-4e82-a11c-485a0dda07e3": {
       "attrs": {
        "height": 0.8,
        "width": 0.8,
        "x": 0.1,
        "y": 0.1
       },
       "content": {
        "cell": "6dadd622-dc11-4f07-8a5e-2c6d98539341",
        "part": "whole"
       },
       "id": "6b3aa204-25fc-4e82-a11c-485a0dda07e3"
      }
     }
    },
    "0efd3b39-a474-4ecc-a6d9-0787cb47ee1b": {
     "id": "0efd3b39-a474-4ecc-a6d9-0787cb47ee1b",
     "prev": "fe75ea06-21ff-4df5-960d-244b09ed7c60",
     "regions": {
      "c79fb94e-b368-4c32-abf6-e164743586f0": {
       "attrs": {
        "height": 0.8,
        "width": 0.8,
        "x": 0.1,
        "y": 0.1
       },
       "content": {
        "cell": "6a6eb934-9f7a-46bb-9481-fa30621e1ad1",
        "part": "whole"
       },
       "id": "c79fb94e-b368-4c32-abf6-e164743586f0"
      }
     }
    },
    "0fc15fbb-59e0-4c41-87c2-23df437be240": {
     "id": "0fc15fbb-59e0-4c41-87c2-23df437be240",
     "prev": "28467765-1761-4941-bdd4-cd1882c9e0ac",
     "regions": {
      "09e38fde-970a-4592-961d-1d52d951efb1": {
       "attrs": {
        "height": 0.8,
        "width": 0.8,
        "x": 0.1,
        "y": 0.1
       },
       "content": {
        "cell": "6deca6e5-7eb4-436b-867f-0e9b33080414",
        "part": "whole"
       },
       "id": "09e38fde-970a-4592-961d-1d52d951efb1"
      }
     }
    },
    "12c83893-91b5-4b20-9493-b9df007488da": {
     "id": "12c83893-91b5-4b20-9493-b9df007488da",
     "prev": "7c305166-4f9d-497f-80f7-c06af1bc49de",
     "regions": {
      "b650e0a0-9c4e-4ee1-b837-dc5b737b0fba": {
       "attrs": {
        "height": 0.8,
        "width": 0.8,
        "x": 0.1,
        "y": 0.1
       },
       "content": {
        "cell": "a01a296c-b838-4abc-9b40-aac8a1043bc5",
        "part": "whole"
       },
       "id": "b650e0a0-9c4e-4ee1-b837-dc5b737b0fba"
      }
     }
    },
    "132f5ee8-872a-4750-b041-405a8c37b899": {
     "id": "132f5ee8-872a-4750-b041-405a8c37b899",
     "prev": "315087b3-162b-46da-94d6-d808e8f9a029",
     "regions": {
      "44d8c737-f773-4e09-940d-24744992c239": {
       "attrs": {
        "height": 0.8,
        "width": 0.8,
        "x": 0.1,
        "y": 0.1
       },
       "content": {
        "cell": "80bf29de-20bd-4fff-b4af-8ba826525c23",
        "part": "whole"
       },
       "id": "44d8c737-f773-4e09-940d-24744992c239"
      }
     }
    },
    "183c1eda-27aa-435b-ba3c-67e367691031": {
     "id": "183c1eda-27aa-435b-ba3c-67e367691031",
     "prev": "6e1d924e-c905-49cc-a870-e2526379257a",
     "regions": {
      "1de24720-a9a6-4dc3-86e1-a69eaa21c00d": {
       "attrs": {
        "height": 0.8,
        "width": 0.8,
        "x": 0.1,
        "y": 0.1
       },
       "content": {
        "cell": "945370b3-8b3b-4cc6-9c15-c55057635776",
        "part": "whole"
       },
       "id": "1de24720-a9a6-4dc3-86e1-a69eaa21c00d"
      }
     }
    },
    "18ebc370-b7b3-4f2f-ad84-1b218f9260e7": {
     "id": "18ebc370-b7b3-4f2f-ad84-1b218f9260e7",
     "prev": "183c1eda-27aa-435b-ba3c-67e367691031",
     "regions": {
      "fbecb9d7-c222-4fb6-b920-f6c7a2c60648": {
       "attrs": {
        "height": 0.8,
        "width": 0.8,
        "x": 0.1,
        "y": 0.1
       },
       "content": {
        "cell": "4453f3ba-0f44-4b82-b225-ab1e9582cf74",
        "part": "whole"
       },
       "id": "fbecb9d7-c222-4fb6-b920-f6c7a2c60648"
      }
     }
    },
    "1b217bab-7745-43fd-92e8-df217d6c313d": {
     "id": "1b217bab-7745-43fd-92e8-df217d6c313d",
     "prev": "f5d5d86b-0d0e-44d3-9a89-f79adde2653f",
     "regions": {
      "e869ff8a-3831-40f7-a7b0-e8fb6e71d9a1": {
       "attrs": {
        "height": 0.8,
        "width": 0.8,
        "x": 0.1,
        "y": 0.1
       },
       "content": {
        "cell": "10933d92-69b9-4bf6-8ca7-147cf0f5f4ac",
        "part": "whole"
       },
       "id": "e869ff8a-3831-40f7-a7b0-e8fb6e71d9a1"
      }
     }
    },
    "1effefc4-683f-437e-82c2-8eaf722ddbd0": {
     "id": "1effefc4-683f-437e-82c2-8eaf722ddbd0",
     "prev": "eb891062-5d37-45da-a256-810797c3a77f",
     "regions": {
      "035b121d-f291-4d97-adaf-709fa7f160d2": {
       "attrs": {
        "height": 0.8,
        "width": 0.8,
        "x": 0.1,
        "y": 0.1
       },
       "content": {
        "cell": "38e4eae6-df5e-41fa-a0d8-3524af42d71e",
        "part": "whole"
       },
       "id": "035b121d-f291-4d97-adaf-709fa7f160d2"
      }
     }
    },
    "22c866ba-f6c1-4a9f-9418-2e6712a2bad5": {
     "id": "22c866ba-f6c1-4a9f-9418-2e6712a2bad5",
     "prev": "39b331d8-9441-45b6-b485-db911369816b",
     "regions": {
      "4761c457-69cb-4112-8a11-431879b6cc14": {
       "attrs": {
        "height": 0.8,
        "width": 0.8,
        "x": 0.1,
        "y": 0.1
       },
       "content": {
        "cell": "c0e2b8f9-b0e0-4351-b6f7-3cf2ac432c1f",
        "part": "whole"
       },
       "id": "4761c457-69cb-4112-8a11-431879b6cc14"
      }
     }
    },
    "22f9e600-d8f6-45ba-851b-72327fe0fe43": {
     "id": "22f9e600-d8f6-45ba-851b-72327fe0fe43",
     "prev": "90bd188d-2459-4aa3-9a24-31e8d7a541db",
     "regions": {
      "b916a71a-0810-44c8-954e-0efe14e57464": {
       "attrs": {
        "height": 0.8,
        "width": 0.8,
        "x": 0.1,
        "y": 0.1
       },
       "content": {
        "cell": "81e9ecf5-9a99-49ad-8b51-988b7c450f33",
        "part": "whole"
       },
       "id": "b916a71a-0810-44c8-954e-0efe14e57464"
      }
     }
    },
    "2366bcfc-ca53-4800-b199-a0c2eb6acec2": {
     "id": "2366bcfc-ca53-4800-b199-a0c2eb6acec2",
     "prev": "d92b4d52-56ce-4883-af0c-0a1ff4f383ad",
     "regions": {
      "375d0c0a-6d99-45d9-a77f-ebd04a9d01bf": {
       "attrs": {
        "height": 0.8,
        "width": 0.8,
        "x": 0.1,
        "y": 0.1
       },
       "content": {
        "cell": "f23e6347-05ff-492e-90ef-688b34db7338",
        "part": "whole"
       },
       "id": "375d0c0a-6d99-45d9-a77f-ebd04a9d01bf"
      }
     }
    },
    "25ee6b28-8d29-4bef-91d3-b9385af22ede": {
     "id": "25ee6b28-8d29-4bef-91d3-b9385af22ede",
     "prev": "4746e03b-7339-47eb-8160-6bd22ee70c14",
     "regions": {
      "fd2707a7-12ce-45fa-93b3-5b36288e461b": {
       "attrs": {
        "height": 0.8,
        "width": 0.8,
        "x": 0.1,
        "y": 0.1
       },
       "content": {
        "cell": "a2a60142-e622-4730-93ea-1205d5cfbdd4",
        "part": "whole"
       },
       "id": "fd2707a7-12ce-45fa-93b3-5b36288e461b"
      }
     }
    },
    "27c6ddde-1e3c-4129-a60d-4ad022109cbb": {
     "id": "27c6ddde-1e3c-4129-a60d-4ad022109cbb",
     "prev": "300e226b-9960-4752-81f6-2a859ff9683f",
     "regions": {
      "dbc73217-0a4c-46b1-95ac-4303aaf932bb": {
       "attrs": {
        "height": 0.8,
        "width": 0.8,
        "x": 0.1,
        "y": 0.1
       },
       "content": {
        "cell": "bfcaa720-da69-474b-b5ba-f3f9c1564d64",
        "part": "whole"
       },
       "id": "dbc73217-0a4c-46b1-95ac-4303aaf932bb"
      }
     }
    },
    "28467765-1761-4941-bdd4-cd1882c9e0ac": {
     "id": "28467765-1761-4941-bdd4-cd1882c9e0ac",
     "prev": "b948ac88-e88a-43a4-b461-87a04cb6e964",
     "regions": {
      "c05d81ef-f218-4a46-b781-a0041e895ab5": {
       "attrs": {
        "height": 0.8,
        "width": 0.8,
        "x": 0.1,
        "y": 0.1
       },
       "content": {
        "cell": "cc9e9ebe-90d4-4369-8f5f-d3ea595de497",
        "part": "whole"
       },
       "id": "c05d81ef-f218-4a46-b781-a0041e895ab5"
      }
     }
    },
    "2890dd75-bc7f-4e30-bff7-de4e741181d2": {
     "id": "2890dd75-bc7f-4e30-bff7-de4e741181d2",
     "prev": "2fce4414-1e03-4e08-b344-450ef97cd491",
     "regions": {
      "68bb65d9-c757-46b8-95fd-c2c03c1c8ebc": {
       "attrs": {
        "height": 0.8,
        "width": 0.8,
        "x": 0.1,
        "y": 0.1
       },
       "content": {
        "cell": "12895f22-ed7d-4ef5-a123-ea0849f9d92b",
        "part": "whole"
       },
       "id": "68bb65d9-c757-46b8-95fd-c2c03c1c8ebc"
      }
     }
    },
    "297039fc-32e7-4c6e-a446-c94a804e3fcd": {
     "id": "297039fc-32e7-4c6e-a446-c94a804e3fcd",
     "prev": "d853eb0b-5d6a-483c-b9d5-78dc6a4d32fe",
     "regions": {
      "e1880e9d-6c9b-41dd-a65f-34fbee3f72ce": {
       "attrs": {
        "height": 0.8,
        "width": 0.8,
        "x": 0.1,
        "y": 0.1
       },
       "content": {
        "cell": "1c807438-9a4d-4567-b2bf-d99b9ae2205e",
        "part": "whole"
       },
       "id": "e1880e9d-6c9b-41dd-a65f-34fbee3f72ce"
      }
     }
    },
    "2be069a4-51bc-4976-bce2-2990457c8ead": {
     "id": "2be069a4-51bc-4976-bce2-2990457c8ead",
     "prev": "6434db8f-64e8-421f-b128-e8a7013e7ba3",
     "regions": {
      "a467203f-24f7-4613-ae62-5dc0d153bd2e": {
       "attrs": {
        "height": 0.8,
        "width": 0.8,
        "x": 0.1,
        "y": 0.1
       },
       "content": {
        "cell": "8a89391b-fae7-4a36-ba53-d11c9c31cd13",
        "part": "whole"
       },
       "id": "a467203f-24f7-4613-ae62-5dc0d153bd2e"
      }
     }
    },
    "2f90b0c1-7d13-4a58-b343-bfe7eabd1736": {
     "id": "2f90b0c1-7d13-4a58-b343-bfe7eabd1736",
     "prev": "99a3aee2-346e-4ded-8ab3-dd1ab7bcdc44",
     "regions": {
      "2ad7cc42-f32a-4fdb-891e-62b5476ca315": {
       "attrs": {
        "height": 0.8,
        "width": 0.8,
        "x": 0.1,
        "y": 0.1
       },
       "content": {
        "cell": "bd71f159-1539-4ae0-b45f-3108b182c12b",
        "part": "whole"
       },
       "id": "2ad7cc42-f32a-4fdb-891e-62b5476ca315"
      }
     }
    },
    "2fce4414-1e03-4e08-b344-450ef97cd491": {
     "id": "2fce4414-1e03-4e08-b344-450ef97cd491",
     "prev": "32911568-253d-40c8-83d2-ad6e9af83d9b",
     "regions": {
      "8576c54b-0bcb-4ca0-8cae-3721a22c26ab": {
       "attrs": {
        "height": 0.8,
        "width": 0.8,
        "x": 0.1,
        "y": 0.1
       },
       "content": {
        "cell": "ecb70fe4-3bdb-4ed4-b8c7-366ef070dca8",
        "part": "whole"
       },
       "id": "8576c54b-0bcb-4ca0-8cae-3721a22c26ab"
      }
     }
    },
    "300e226b-9960-4752-81f6-2a859ff9683f": {
     "id": "300e226b-9960-4752-81f6-2a859ff9683f",
     "prev": "03799d54-dac0-44e3-a5a6-447e2f4d9a59",
     "regions": {
      "3c49a54a-fd48-4fa6-b37c-98019b451c6a": {
       "attrs": {
        "height": 0.8,
        "width": 0.8,
        "x": 0.1,
        "y": 0.1
       },
       "content": {
        "cell": "2d9d6d88-c87c-48aa-b84f-0eae24b7076e",
        "part": "whole"
       },
       "id": "3c49a54a-fd48-4fa6-b37c-98019b451c6a"
      }
     }
    },
    "30a7416a-8d56-448a-bce0-2e214f348a83": {
     "id": "30a7416a-8d56-448a-bce0-2e214f348a83",
     "prev": "297039fc-32e7-4c6e-a446-c94a804e3fcd",
     "regions": {
      "1d13d973-d1fa-42e0-b380-9872df148dd6": {
       "attrs": {
        "height": 0.8,
        "width": 0.8,
        "x": 0.1,
        "y": 0.1
       },
       "content": {
        "cell": "9c5752fe-d414-4bee-9675-09f186fe0ceb",
        "part": "whole"
       },
       "id": "1d13d973-d1fa-42e0-b380-9872df148dd6"
      }
     }
    },
    "315087b3-162b-46da-94d6-d808e8f9a029": {
     "id": "315087b3-162b-46da-94d6-d808e8f9a029",
     "prev": "2890dd75-bc7f-4e30-bff7-de4e741181d2",
     "regions": {
      "ebd39b3a-7a2a-4179-915a-f09f20a6b788": {
       "attrs": {
        "height": 0.8,
        "width": 0.8,
        "x": 0.1,
        "y": 0.1
       },
       "content": {
        "cell": "793cca30-b71b-456f-bf25-70baf5677408",
        "part": "whole"
       },
       "id": "ebd39b3a-7a2a-4179-915a-f09f20a6b788"
      }
     }
    },
    "32911568-253d-40c8-83d2-ad6e9af83d9b": {
     "id": "32911568-253d-40c8-83d2-ad6e9af83d9b",
     "prev": "5bd90c34-5970-4ca2-9a8f-573d207ed04f",
     "regions": {
      "e87ec9e4-a786-427f-907d-e6a70859a651": {
       "attrs": {
        "height": 0.8,
        "width": 0.8,
        "x": 0.1,
        "y": 0.1
       },
       "content": {
        "cell": "8d9cbd7a-0f0e-4158-8aa8-1f9cc2791b36",
        "part": "whole"
       },
       "id": "e87ec9e4-a786-427f-907d-e6a70859a651"
      }
     }
    },
    "33ee1c09-a0ca-49cb-ba73-f803f11bc1b1": {
     "id": "33ee1c09-a0ca-49cb-ba73-f803f11bc1b1",
     "prev": null,
     "regions": {
      "edb84a74-de4e-4cc8-bc74-597ebe837993": {
       "attrs": {
        "height": 0.8,
        "width": 0.8,
        "x": 0.1,
        "y": 0.1
       },
       "content": {
        "cell": "285262d4-c249-4623-96ff-ccedeccfaefd",
        "part": "whole"
       },
       "id": "edb84a74-de4e-4cc8-bc74-597ebe837993"
      }
     }
    },
    "39b331d8-9441-45b6-b485-db911369816b": {
     "id": "39b331d8-9441-45b6-b485-db911369816b",
     "prev": "5c772102-3d5c-4bbe-a0c6-3ea98d064f41",
     "regions": {
      "710afaf7-bce1-4905-ad3d-401dc82190d7": {
       "attrs": {
        "height": 0.8,
        "width": 0.8,
        "x": 0.1,
        "y": 0.1
       },
       "content": {
        "cell": "de6bbc20-4722-4f0e-a51c-1e16479a02c0",
        "part": "whole"
       },
       "id": "710afaf7-bce1-4905-ad3d-401dc82190d7"
      }
     }
    },
    "3f3d78a4-07b9-4b66-8bbb-6d94ed26c8cd": {
     "id": "3f3d78a4-07b9-4b66-8bbb-6d94ed26c8cd",
     "prev": "705b7b4f-2fa9-4003-b656-87d48409bc00",
     "regions": {
      "15db728a-61f3-4288-8458-b6c2f3d8104e": {
       "attrs": {
        "height": 0.8,
        "width": 0.8,
        "x": 0.1,
        "y": 0.1
       },
       "content": {
        "cell": "03964110-cc7e-43d4-a391-2519cdf6e956",
        "part": "whole"
       },
       "id": "15db728a-61f3-4288-8458-b6c2f3d8104e"
      }
     }
    },
    "403c6159-f932-474c-92bb-588233af603b": {
     "id": "403c6159-f932-474c-92bb-588233af603b",
     "prev": "2366bcfc-ca53-4800-b199-a0c2eb6acec2",
     "regions": {
      "c95eafb3-5eca-49f6-916d-6d54f66464cc": {
       "attrs": {
        "height": 0.8,
        "width": 0.8,
        "x": 0.1,
        "y": 0.1
       },
       "content": {
        "cell": "3489dd4f-020a-487e-afd1-beb18d4cae28",
        "part": "whole"
       },
       "id": "c95eafb3-5eca-49f6-916d-6d54f66464cc"
      }
     }
    },
    "46b283d1-81fd-4146-983c-766902b9e573": {
     "id": "46b283d1-81fd-4146-983c-766902b9e573",
     "prev": "b9e89bef-31b8-4e3e-ae71-db8dc81dbe5e",
     "regions": {
      "fc3c55a1-51e9-46d4-84ae-a715a02767b2": {
       "attrs": {
        "height": 0.8,
        "width": 0.8,
        "x": 0.1,
        "y": 0.1
       },
       "content": {
        "cell": "8d8a1bef-b867-43bf-9ea0-96347a2f9a76",
        "part": "whole"
       },
       "id": "fc3c55a1-51e9-46d4-84ae-a715a02767b2"
      }
     }
    },
    "46d6ed0c-bbe4-4548-8eba-9713341a8cc7": {
     "id": "46d6ed0c-bbe4-4548-8eba-9713341a8cc7",
     "prev": "568cf9f5-a976-4860-871a-d3ff0ae18511",
     "regions": {
      "a12aeae0-51fa-44a3-bd29-8be839e2fbdb": {
       "attrs": {
        "height": 0.8,
        "width": 0.8,
        "x": 0.1,
        "y": 0.1
       },
       "content": {
        "cell": "0f7f80db-2b8f-4728-b734-a87c901898a1",
        "part": "whole"
       },
       "id": "a12aeae0-51fa-44a3-bd29-8be839e2fbdb"
      }
     }
    },
    "46f3f2fa-12a2-4ef2-a4cc-4fdf6ed9bc07": {
     "id": "46f3f2fa-12a2-4ef2-a4cc-4fdf6ed9bc07",
     "prev": "d03c20b0-736a-43c8-98c4-055f9cc0b011",
     "regions": {
      "36516b2f-c50f-4368-b166-9c091cf568d8": {
       "attrs": {
        "height": 0.8,
        "width": 0.8,
        "x": 0.1,
        "y": 0.1
       },
       "content": {
        "cell": "dedd1b51-9577-4910-9c49-8091f44c269a",
        "part": "whole"
       },
       "id": "36516b2f-c50f-4368-b166-9c091cf568d8"
      }
     }
    },
    "4746e03b-7339-47eb-8160-6bd22ee70c14": {
     "id": "4746e03b-7339-47eb-8160-6bd22ee70c14",
     "prev": "cbf42715-83cf-46ab-bc4e-3fa421145814",
     "regions": {
      "eac6f5bd-f6fa-40ce-aa99-55fadb26e07b": {
       "attrs": {
        "height": 0.8,
        "width": 0.8,
        "x": 0.1,
        "y": 0.1
       },
       "content": {
        "cell": "9cbd90c5-6242-4fdd-9c2f-6d71ff31dd1b",
        "part": "whole"
       },
       "id": "eac6f5bd-f6fa-40ce-aa99-55fadb26e07b"
      }
     }
    },
    "4818294b-8119-41e7-9145-4d93f0e5c25d": {
     "id": "4818294b-8119-41e7-9145-4d93f0e5c25d",
     "prev": "51141bdf-d371-4b78-90c6-e72742a20b0e",
     "regions": {
      "fa2c9b92-3ba2-45da-9c4f-1d3c38fc1523": {
       "attrs": {
        "height": 0.8,
        "width": 0.8,
        "x": 0.1,
        "y": 0.1
       },
       "content": {
        "cell": "4fa3e0be-1c52-46eb-aa7a-dea63166df0e",
        "part": "whole"
       },
       "id": "fa2c9b92-3ba2-45da-9c4f-1d3c38fc1523"
      }
     }
    },
    "493c0f25-a4f9-485b-8cbc-813ca36d0cd3": {
     "id": "493c0f25-a4f9-485b-8cbc-813ca36d0cd3",
     "prev": "18ebc370-b7b3-4f2f-ad84-1b218f9260e7",
     "regions": {
      "0b7eb67e-4f8a-4dd3-8d93-ac70ffb3cb69": {
       "attrs": {
        "height": 0.8,
        "width": 0.8,
        "x": 0.1,
        "y": 0.1
       },
       "content": {
        "cell": "25dab757-5ba4-418a-aded-281fb3f51919",
        "part": "whole"
       },
       "id": "0b7eb67e-4f8a-4dd3-8d93-ac70ffb3cb69"
      }
     }
    },
    "4b8b712e-3e65-434c-9663-c93745fbc77d": {
     "id": "4b8b712e-3e65-434c-9663-c93745fbc77d",
     "prev": "78afc5d1-2a22-494e-ac64-f8e466208cb7",
     "regions": {
      "78be4be1-2bd3-481e-8b32-c43add991a8e": {
       "attrs": {
        "height": 0.8,
        "width": 0.8,
        "x": 0.1,
        "y": 0.1
       },
       "content": {
        "cell": "3053a28e-3264-407f-8367-b0708e00537d",
        "part": "whole"
       },
       "id": "78be4be1-2bd3-481e-8b32-c43add991a8e"
      }
     }
    },
    "51141bdf-d371-4b78-90c6-e72742a20b0e": {
     "id": "51141bdf-d371-4b78-90c6-e72742a20b0e",
     "prev": "a47ad35f-2af4-4f51-828f-13374dfd2a63",
     "regions": {
      "aae5b955-69e4-499b-bd98-937fa299347d": {
       "attrs": {
        "height": 0.8,
        "width": 0.8,
        "x": 0.1,
        "y": 0.1
       },
       "content": {
        "cell": "4892e9ca-6a3b-419c-b5fc-82a41cd913cd",
        "part": "whole"
       },
       "id": "aae5b955-69e4-499b-bd98-937fa299347d"
      }
     }
    },
    "568cf9f5-a976-4860-871a-d3ff0ae18511": {
     "id": "568cf9f5-a976-4860-871a-d3ff0ae18511",
     "prev": "ba69037c-f79a-4e94-88c6-6b143cb7e28e",
     "regions": {
      "1ab9759e-e1b0-4490-b9c8-4d18afa1d967": {
       "attrs": {
        "height": 0.8,
        "width": 0.8,
        "x": 0.1,
        "y": 0.1
       },
       "content": {
        "cell": "6687d183-e56d-4f6d-8112-8715fe71110d",
        "part": "whole"
       },
       "id": "1ab9759e-e1b0-4490-b9c8-4d18afa1d967"
      }
     }
    },
    "5bd90c34-5970-4ca2-9a8f-573d207ed04f": {
     "id": "5bd90c34-5970-4ca2-9a8f-573d207ed04f",
     "prev": "5e951ef9-05c0-4942-9aec-e0012d83e826",
     "regions": {
      "5f989840-b61e-49f0-900c-987b5b0beeb0": {
       "attrs": {
        "height": 0.8,
        "width": 0.8,
        "x": 0.1,
        "y": 0.1
       },
       "content": {
        "cell": "ecc22d9d-f939-40ff-a8be-3a804615bb86",
        "part": "whole"
       },
       "id": "5f989840-b61e-49f0-900c-987b5b0beeb0"
      }
     }
    },
    "5c772102-3d5c-4bbe-a0c6-3ea98d064f41": {
     "id": "5c772102-3d5c-4bbe-a0c6-3ea98d064f41",
     "prev": "2be069a4-51bc-4976-bce2-2990457c8ead",
     "regions": {
      "f8d0584b-4e8e-4dfa-8c22-9351f954ef3a": {
       "attrs": {
        "height": 0.8,
        "width": 0.8,
        "x": 0.1,
        "y": 0.1
       },
       "content": {
        "cell": "13ce860f-dc05-4d9e-868c-a00d8315873d",
        "part": "whole"
       },
       "id": "f8d0584b-4e8e-4dfa-8c22-9351f954ef3a"
      }
     }
    },
    "5e951ef9-05c0-4942-9aec-e0012d83e826": {
     "id": "5e951ef9-05c0-4942-9aec-e0012d83e826",
     "prev": "f8ab0964-a61a-4363-9bf0-306d18f9c8bd",
     "regions": {
      "084adcce-dcb5-4bb9-941f-0b8212ad4f27": {
       "attrs": {
        "height": 0.8,
        "width": 0.8,
        "x": 0.1,
        "y": 0.1
       },
       "content": {
        "cell": "160780ed-138e-4944-b690-731127746824",
        "part": "whole"
       },
       "id": "084adcce-dcb5-4bb9-941f-0b8212ad4f27"
      }
     }
    },
    "61f32e1c-7623-4e3f-8d38-9b026a2b5f72": {
     "id": "61f32e1c-7623-4e3f-8d38-9b026a2b5f72",
     "prev": "4818294b-8119-41e7-9145-4d93f0e5c25d",
     "regions": {
      "66a162d5-582b-4931-8fe5-684bb0aa0166": {
       "attrs": {
        "height": 0.8,
        "width": 0.8,
        "x": 0.1,
        "y": 0.1
       },
       "content": {
        "cell": "09721a69-e0b5-4f6c-ac77-e43a8a467477",
        "part": "whole"
       },
       "id": "66a162d5-582b-4931-8fe5-684bb0aa0166"
      }
     }
    },
    "6434db8f-64e8-421f-b128-e8a7013e7ba3": {
     "id": "6434db8f-64e8-421f-b128-e8a7013e7ba3",
     "prev": "46d6ed0c-bbe4-4548-8eba-9713341a8cc7",
     "regions": {
      "df6d5742-9678-43db-ad32-7b2811825d49": {
       "attrs": {
        "height": 0.8,
        "width": 0.8,
        "x": 0.1,
        "y": 0.1
       },
       "content": {
        "cell": "e8c911e3-5d24-44fb-a568-c846dc417b88",
        "part": "whole"
       },
       "id": "df6d5742-9678-43db-ad32-7b2811825d49"
      }
     }
    },
    "67cb11ec-185f-482e-a54c-304b6e711d04": {
     "id": "67cb11ec-185f-482e-a54c-304b6e711d04",
     "prev": "c5a0c7d6-9c46-4231-aade-11f41054d22e",
     "regions": {
      "b16e3800-e573-4f9b-b099-078d8740ba7e": {
       "attrs": {
        "height": 0.8,
        "width": 0.8,
        "x": 0.1,
        "y": 0.1
       },
       "content": {
        "cell": "c36138f9-3507-4a10-b593-3f6b7aa53bdf",
        "part": "whole"
       },
       "id": "b16e3800-e573-4f9b-b099-078d8740ba7e"
      }
     }
    },
    "6e1d924e-c905-49cc-a870-e2526379257a": {
     "id": "6e1d924e-c905-49cc-a870-e2526379257a",
     "prev": "33ee1c09-a0ca-49cb-ba73-f803f11bc1b1",
     "regions": {
      "d02cebab-e908-4ac3-b703-5e93e9ae7a33": {
       "attrs": {
        "height": 0.8,
        "width": 0.8,
        "x": 0.1,
        "y": 0.1
       },
       "content": {
        "cell": "6d817c83-7e67-466f-8654-7d3746f3146c",
        "part": "whole"
       },
       "id": "d02cebab-e908-4ac3-b703-5e93e9ae7a33"
      }
     }
    },
    "70491591-aedd-47d8-9403-8a30da4a9eb0": {
     "id": "70491591-aedd-47d8-9403-8a30da4a9eb0",
     "prev": "46b283d1-81fd-4146-983c-766902b9e573",
     "regions": {
      "1d5919f5-7e00-4d86-975a-9ce3a77b279f": {
       "attrs": {
        "height": 0.8,
        "width": 0.8,
        "x": 0.1,
        "y": 0.1
       },
       "content": {
        "cell": "95e939f4-be49-46d5-869e-da792fb38f6d",
        "part": "whole"
       },
       "id": "1d5919f5-7e00-4d86-975a-9ce3a77b279f"
      }
     }
    },
    "705b7b4f-2fa9-4003-b656-87d48409bc00": {
     "id": "705b7b4f-2fa9-4003-b656-87d48409bc00",
     "prev": "403c6159-f932-474c-92bb-588233af603b",
     "regions": {
      "2a7a6f8b-c750-4c79-9cf4-128ea719f550": {
       "attrs": {
        "height": 0.8,
        "width": 0.8,
        "x": 0.1,
        "y": 0.1
       },
       "content": {
        "cell": "352ee7b2-da4b-465c-b991-e9f7cb835047",
        "part": "whole"
       },
       "id": "2a7a6f8b-c750-4c79-9cf4-128ea719f550"
      }
     }
    },
    "7288062e-9a85-4c3e-998a-49b371fcf8c8": {
     "id": "7288062e-9a85-4c3e-998a-49b371fcf8c8",
     "prev": "70491591-aedd-47d8-9403-8a30da4a9eb0",
     "regions": {
      "ec215448-5780-4bda-a197-a63b742b3073": {
       "attrs": {
        "height": 0.8,
        "width": 0.8,
        "x": 0.1,
        "y": 0.1
       },
       "content": {
        "cell": "549f75b4-d0f1-47c9-9a5c-1510e541825f",
        "part": "whole"
       },
       "id": "ec215448-5780-4bda-a197-a63b742b3073"
      }
     }
    },
    "75ece4d6-a8ec-4536-bbd4-63d5c6473b16": {
     "id": "75ece4d6-a8ec-4536-bbd4-63d5c6473b16",
     "prev": "0fc15fbb-59e0-4c41-87c2-23df437be240",
     "regions": {
      "4ab5d58e-eb8c-4f8a-ae8d-b70e741aa40f": {
       "attrs": {
        "height": 0.8,
        "width": 0.8,
        "x": 0.1,
        "y": 0.1
       },
       "content": {
        "cell": "b0b2051c-f7bc-4615-af0b-199dd7417b0e",
        "part": "whole"
       },
       "id": "4ab5d58e-eb8c-4f8a-ae8d-b70e741aa40f"
      }
     }
    },
    "75febc2e-c814-4285-b7f6-4ad3c4c12de9": {
     "id": "75febc2e-c814-4285-b7f6-4ad3c4c12de9",
     "prev": "c6a6cb84-3d53-408e-a0bb-15794fd82f55",
     "regions": {
      "943a7350-a7de-42e3-bead-0c02e43f1ddf": {
       "attrs": {
        "height": 0.8,
        "width": 0.8,
        "x": 0.1,
        "y": 0.1
       },
       "content": {
        "cell": "c54bc028-98c6-4192-b0cf-0ccf9c0e80b7",
        "part": "whole"
       },
       "id": "943a7350-a7de-42e3-bead-0c02e43f1ddf"
      }
     }
    },
    "78afc5d1-2a22-494e-ac64-f8e466208cb7": {
     "id": "78afc5d1-2a22-494e-ac64-f8e466208cb7",
     "prev": "0efd3b39-a474-4ecc-a6d9-0787cb47ee1b",
     "regions": {
      "ee9a8a41-2bfe-4d6c-bf05-7b80e2839b78": {
       "attrs": {
        "height": 0.8,
        "width": 0.8,
        "x": 0.1,
        "y": 0.1
       },
       "content": {
        "cell": "6649b241-54ce-471e-941b-3c1d982e8d9a",
        "part": "whole"
       },
       "id": "ee9a8a41-2bfe-4d6c-bf05-7b80e2839b78"
      }
     }
    },
    "7b5ef460-c7a7-41c4-9e30-32147378ad9e": {
     "id": "7b5ef460-c7a7-41c4-9e30-32147378ad9e",
     "prev": "3f3d78a4-07b9-4b66-8bbb-6d94ed26c8cd",
     "regions": {
      "b2c49421-123e-400e-b787-70e9734763fb": {
       "attrs": {
        "height": 0.8,
        "width": 0.8,
        "x": 0.1,
        "y": 0.1
       },
       "content": {
        "cell": "42fdbead-1fc6-4ce7-9813-c48533a0aee8",
        "part": "whole"
       },
       "id": "b2c49421-123e-400e-b787-70e9734763fb"
      }
     }
    },
    "7c305166-4f9d-497f-80f7-c06af1bc49de": {
     "id": "7c305166-4f9d-497f-80f7-c06af1bc49de",
     "prev": "a5948bc8-2165-4521-a496-ddc3dc020633",
     "regions": {
      "97e93655-6bad-4136-9eea-fe823387cc7c": {
       "attrs": {
        "height": 0.8,
        "width": 0.8,
        "x": 0.1,
        "y": 0.1
       },
       "content": {
        "cell": "dae57908-edcd-4b28-b302-912b42690291",
        "part": "whole"
       },
       "id": "97e93655-6bad-4136-9eea-fe823387cc7c"
      }
     }
    },
    "7c7242c9-b1b5-444e-aa4e-6146a4d8d12a": {
     "id": "7c7242c9-b1b5-444e-aa4e-6146a4d8d12a",
     "prev": "61f32e1c-7623-4e3f-8d38-9b026a2b5f72",
     "regions": {
      "681cdeb2-f053-4a5b-ab6f-b4e149e48894": {
       "attrs": {
        "height": 0.8,
        "width": 0.8,
        "x": 0.1,
        "y": 0.1
       },
       "content": {
        "cell": "e18b866b-f98d-457c-8531-2e610d7844b8",
        "part": "whole"
       },
       "id": "681cdeb2-f053-4a5b-ab6f-b4e149e48894"
      }
     }
    },
    "80957ec6-3366-48e2-a8bb-f3f82ed18223": {
     "id": "80957ec6-3366-48e2-a8bb-f3f82ed18223",
     "prev": "da93379c-8de8-4d45-9f84-28125067f66a",
     "regions": {
      "7122fee4-6051-4dd7-8e4a-06c414b5ca11": {
       "attrs": {
        "height": 0.8,
        "width": 0.8,
        "x": 0.1,
        "y": 0.1
       },
       "content": {
        "cell": "2bb72d5a-d8f0-4450-ae82-fd7eef23bfdc",
        "part": "whole"
       },
       "id": "7122fee4-6051-4dd7-8e4a-06c414b5ca11"
      }
     }
    },
    "8150b56c-093e-4efe-b2cc-b53e6467f9a1": {
     "id": "8150b56c-093e-4efe-b2cc-b53e6467f9a1",
     "prev": "27c6ddde-1e3c-4129-a60d-4ad022109cbb",
     "regions": {
      "48391667-6153-41de-a7bd-5d2f3046ed55": {
       "attrs": {
        "height": 0.8,
        "width": 0.8,
        "x": 0.1,
        "y": 0.1
       },
       "content": {
        "cell": "f969f8a1-0b80-4cbc-8b0f-6fb2ce15d6d2",
        "part": "whole"
       },
       "id": "48391667-6153-41de-a7bd-5d2f3046ed55"
      }
     }
    },
    "8b7eeebb-b56b-404a-8fbf-cdc3e94259be": {
     "id": "8b7eeebb-b56b-404a-8fbf-cdc3e94259be",
     "prev": "132f5ee8-872a-4750-b041-405a8c37b899",
     "regions": {
      "0d44c88c-92e4-47e3-a1de-04dca1e63861": {
       "attrs": {
        "height": 0.8,
        "width": 0.8,
        "x": 0.1,
        "y": 0.1
       },
       "content": {
        "cell": "917a6220-432d-454b-960a-7e8b7d58018f",
        "part": "whole"
       },
       "id": "0d44c88c-92e4-47e3-a1de-04dca1e63861"
      }
     }
    },
    "908fe775-e644-4aa8-b793-6ebec4995f42": {
     "id": "908fe775-e644-4aa8-b793-6ebec4995f42",
     "prev": "2f90b0c1-7d13-4a58-b343-bfe7eabd1736",
     "regions": {
      "d6d07f41-9dff-40b6-8bb7-406c7dad4b75": {
       "attrs": {
        "height": 0.8,
        "width": 0.8,
        "x": 0.1,
        "y": 0.1
       },
       "content": {
        "cell": "2f302c04-47b4-4efe-8a05-b3546b404ee7",
        "part": "whole"
       },
       "id": "d6d07f41-9dff-40b6-8bb7-406c7dad4b75"
      }
     }
    },
    "90bd188d-2459-4aa3-9a24-31e8d7a541db": {
     "id": "90bd188d-2459-4aa3-9a24-31e8d7a541db",
     "prev": "a371ff48-f828-4bc5-85ad-f8d9a1d42d1e",
     "regions": {
      "119addb0-b9ae-426c-8e03-330c4badf222": {
       "attrs": {
        "height": 0.8,
        "width": 0.8,
        "x": 0.1,
        "y": 0.1
       },
       "content": {
        "cell": "bf31fe32-fc97-4bf7-bc4a-98ac8c5f61fd",
        "part": "whole"
       },
       "id": "119addb0-b9ae-426c-8e03-330c4badf222"
      }
     }
    },
    "99a3aee2-346e-4ded-8ab3-dd1ab7bcdc44": {
     "id": "99a3aee2-346e-4ded-8ab3-dd1ab7bcdc44",
     "prev": "f730f973-aef7-4509-bdfb-dcf4c0ce3a6d",
     "regions": {
      "94bb770f-3277-4062-b23a-9eec26bb1217": {
       "attrs": {
        "height": 0.8,
        "width": 0.8,
        "x": 0.1,
        "y": 0.1
       },
       "content": {
        "cell": "62205628-ae77-4af3-a76f-632a6ad4808a",
        "part": "whole"
       },
       "id": "94bb770f-3277-4062-b23a-9eec26bb1217"
      }
     }
    },
    "99d8fc65-60d1-4127-866a-26830bbf8b23": {
     "id": "99d8fc65-60d1-4127-866a-26830bbf8b23",
     "prev": "1b217bab-7745-43fd-92e8-df217d6c313d",
     "regions": {
      "51779974-5836-489a-b62c-cc88359f44a7": {
       "attrs": {
        "height": 0.8,
        "width": 0.8,
        "x": 0.1,
        "y": 0.1
       },
       "content": {
        "cell": "1eb464f6-570a-463e-bfbe-7d6bb931983e",
        "part": "whole"
       },
       "id": "51779974-5836-489a-b62c-cc88359f44a7"
      }
     }
    },
    "9b9e2d5b-eb86-49a7-a225-9209af97bfda": {
     "id": "9b9e2d5b-eb86-49a7-a225-9209af97bfda",
     "prev": "ff7cc1a4-cd79-41bc-a91c-aa74ef76c8b3",
     "regions": {
      "6944e461-158a-4b41-becf-08e432b5ec35": {
       "attrs": {
        "height": 0.8,
        "width": 0.8,
        "x": 0.1,
        "y": 0.1
       },
       "content": {
        "cell": "adc36f2a-e65d-4282-a70d-e0e7787dc67e",
        "part": "whole"
       },
       "id": "6944e461-158a-4b41-becf-08e432b5ec35"
      }
     }
    },
    "a371ff48-f828-4bc5-85ad-f8d9a1d42d1e": {
     "id": "a371ff48-f828-4bc5-85ad-f8d9a1d42d1e",
     "prev": "75febc2e-c814-4285-b7f6-4ad3c4c12de9",
     "regions": {
      "792d29d6-7ed0-4475-904d-37e91d5aa2f8": {
       "attrs": {
        "height": 0.8,
        "width": 0.8,
        "x": 0.1,
        "y": 0.1
       },
       "content": {
        "cell": "515e3451-71e2-4a62-b1b0-0e91139b70b8",
        "part": "whole"
       },
       "id": "792d29d6-7ed0-4475-904d-37e91d5aa2f8"
      }
     }
    },
    "a47ad35f-2af4-4f51-828f-13374dfd2a63": {
     "id": "a47ad35f-2af4-4f51-828f-13374dfd2a63",
     "prev": "e2227be0-953d-4673-9019-758ca82fcfe7",
     "regions": {
      "e5c6cd67-f2b3-4ee0-9b67-b03fd7bff297": {
       "attrs": {
        "height": 0.8,
        "width": 0.8,
        "x": 0.1,
        "y": 0.1
       },
       "content": {
        "cell": "76f85bee-fa3f-41bb-8de9-80d3ad4cd7d0",
        "part": "whole"
       },
       "id": "e5c6cd67-f2b3-4ee0-9b67-b03fd7bff297"
      }
     }
    },
    "a5948bc8-2165-4521-a496-ddc3dc020633": {
     "id": "a5948bc8-2165-4521-a496-ddc3dc020633",
     "prev": "25ee6b28-8d29-4bef-91d3-b9385af22ede",
     "regions": {
      "3fed4428-0a63-4db9-afba-c6a84fa70c1d": {
       "attrs": {
        "height": 0.8,
        "width": 0.8,
        "x": 0.1,
        "y": 0.1
       },
       "content": {
        "cell": "0ec4d9ab-50c3-46d6-a737-bd3181db74fc",
        "part": "whole"
       },
       "id": "3fed4428-0a63-4db9-afba-c6a84fa70c1d"
      }
     }
    },
    "a65d8b85-5a59-49e6-a980-4ff93b644bd5": {
     "id": "a65d8b85-5a59-49e6-a980-4ff93b644bd5",
     "prev": "7c7242c9-b1b5-444e-aa4e-6146a4d8d12a",
     "regions": {
      "bc4b09fa-1aa5-48ab-9872-6886e9e424dd": {
       "attrs": {
        "height": 0.8,
        "width": 0.8,
        "x": 0.1,
        "y": 0.1
       },
       "content": {
        "cell": "37aca175-ca62-4361-8f74-dba214f3701c",
        "part": "whole"
       },
       "id": "bc4b09fa-1aa5-48ab-9872-6886e9e424dd"
      }
     }
    },
    "b948ac88-e88a-43a4-b461-87a04cb6e964": {
     "id": "b948ac88-e88a-43a4-b461-87a04cb6e964",
     "prev": "8b7eeebb-b56b-404a-8fbf-cdc3e94259be",
     "regions": {
      "85ac4004-fbd3-43c9-bb7a-1092130e15dc": {
       "attrs": {
        "height": 0.8,
        "width": 0.8,
        "x": 0.1,
        "y": 0.1
       },
       "content": {
        "cell": "641b0c84-0086-4871-9d79-18d0a120a5fd",
        "part": "whole"
       },
       "id": "85ac4004-fbd3-43c9-bb7a-1092130e15dc"
      }
     }
    },
    "b9e89bef-31b8-4e3e-ae71-db8dc81dbe5e": {
     "id": "b9e89bef-31b8-4e3e-ae71-db8dc81dbe5e",
     "prev": "9b9e2d5b-eb86-49a7-a225-9209af97bfda",
     "regions": {
      "5ce7e5e1-bbd3-4a39-b57b-7c80dc724add": {
       "attrs": {
        "height": 0.8,
        "width": 0.8,
        "x": 0.1,
        "y": 0.1
       },
       "content": {
        "cell": "a62c0811-3013-4d65-a893-2b1662b27e43",
        "part": "whole"
       },
       "id": "5ce7e5e1-bbd3-4a39-b57b-7c80dc724add"
      }
     }
    },
    "ba69037c-f79a-4e94-88c6-6b143cb7e28e": {
     "id": "ba69037c-f79a-4e94-88c6-6b143cb7e28e",
     "prev": "22f9e600-d8f6-45ba-851b-72327fe0fe43",
     "regions": {
      "78aaa0e4-25d8-4ecd-a587-30517aee5ee2": {
       "attrs": {
        "height": 0.8,
        "width": 0.8,
        "x": 0.1,
        "y": 0.1
       },
       "content": {
        "cell": "5f300606-0d11-4bcf-8bd5-cb0cbad69d02",
        "part": "whole"
       },
       "id": "78aaa0e4-25d8-4ecd-a587-30517aee5ee2"
      }
     }
    },
    "bd382fd4-0067-479b-819b-681541f94f81": {
     "id": "bd382fd4-0067-479b-819b-681541f94f81",
     "prev": "30a7416a-8d56-448a-bce0-2e214f348a83",
     "regions": {
      "d0953d3e-a92e-4bf8-bc20-30add926a600": {
       "attrs": {
        "height": 0.8,
        "width": 0.8,
        "x": 0.1,
        "y": 0.1
       },
       "content": {
        "cell": "bc305530-f03e-41df-a68c-e21a21abc177",
        "part": "whole"
       },
       "id": "d0953d3e-a92e-4bf8-bc20-30add926a600"
      }
     }
    },
    "c5a0c7d6-9c46-4231-aade-11f41054d22e": {
     "id": "c5a0c7d6-9c46-4231-aade-11f41054d22e",
     "prev": "75ece4d6-a8ec-4536-bbd4-63d5c6473b16",
     "regions": {
      "03853139-e84f-4961-a3cc-c512f7048465": {
       "attrs": {
        "height": 0.8,
        "width": 0.8,
        "x": 0.1,
        "y": 0.1
       },
       "content": {
        "cell": "f9f85675-5693-45a0-aa17-392b62822bbd",
        "part": "whole"
       },
       "id": "03853139-e84f-4961-a3cc-c512f7048465"
      }
     }
    },
    "c6a6cb84-3d53-408e-a0bb-15794fd82f55": {
     "id": "c6a6cb84-3d53-408e-a0bb-15794fd82f55",
     "prev": "493c0f25-a4f9-485b-8cbc-813ca36d0cd3",
     "regions": {
      "a9a22893-34b8-4014-b163-3a79534c10e9": {
       "attrs": {
        "height": 0.8,
        "width": 0.8,
        "x": 0.1,
        "y": 0.1
       },
       "content": {
        "cell": "14c5e0ea-c3fe-4a3d-88ab-b9e66d883682",
        "part": "whole"
       },
       "id": "a9a22893-34b8-4014-b163-3a79534c10e9"
      }
     }
    },
    "c9b97f45-cf36-499e-9af2-36acf1c6a52e": {
     "id": "c9b97f45-cf36-499e-9af2-36acf1c6a52e",
     "prev": "80957ec6-3366-48e2-a8bb-f3f82ed18223",
     "regions": {
      "2aac7b23-7872-4f3c-8da0-06a62f18a176": {
       "attrs": {
        "height": 0.8,
        "width": 0.8,
        "x": 0.1,
        "y": 0.1
       },
       "content": {
        "cell": "cad7344b-45d4-4bb6-b223-4328d7c5aca3",
        "part": "whole"
       },
       "id": "2aac7b23-7872-4f3c-8da0-06a62f18a176"
      }
     }
    },
    "cbf42715-83cf-46ab-bc4e-3fa421145814": {
     "id": "cbf42715-83cf-46ab-bc4e-3fa421145814",
     "prev": "46f3f2fa-12a2-4ef2-a4cc-4fdf6ed9bc07",
     "regions": {
      "d57cd662-5e0a-4b88-9649-24999ababd73": {
       "attrs": {
        "height": 0.8,
        "width": 0.8,
        "x": 0.1,
        "y": 0.1
       },
       "content": {
        "cell": "f0ac71ae-00d6-42e1-90aa-dbbc56cb4f35",
        "part": "whole"
       },
       "id": "d57cd662-5e0a-4b88-9649-24999ababd73"
      }
     }
    },
    "d03c20b0-736a-43c8-98c4-055f9cc0b011": {
     "id": "d03c20b0-736a-43c8-98c4-055f9cc0b011",
     "prev": "4b8b712e-3e65-434c-9663-c93745fbc77d",
     "regions": {
      "839537b8-3afd-4d27-8621-62022b1d1f09": {
       "attrs": {
        "height": 0.8,
        "width": 0.8,
        "x": 0.1,
        "y": 0.1
       },
       "content": {
        "cell": "6571cbd3-5711-4491-8a34-191c2eb36372",
        "part": "whole"
       },
       "id": "839537b8-3afd-4d27-8621-62022b1d1f09"
      }
     }
    },
    "d55bed90-d10f-4fb2-80f2-95ab88760fa1": {
     "id": "d55bed90-d10f-4fb2-80f2-95ab88760fa1",
     "prev": "12c83893-91b5-4b20-9493-b9df007488da",
     "regions": {
      "8bfdac7c-b3e0-4799-957d-89601e5d972c": {
       "attrs": {
        "height": 0.8,
        "width": 0.8,
        "x": 0.1,
        "y": 0.1
       },
       "content": {
        "cell": "c83e1c46-dc1f-4a48-99d0-19ab673af915",
        "part": "whole"
       },
       "id": "8bfdac7c-b3e0-4799-957d-89601e5d972c"
      }
     }
    },
    "d853eb0b-5d6a-483c-b9d5-78dc6a4d32fe": {
     "id": "d853eb0b-5d6a-483c-b9d5-78dc6a4d32fe",
     "prev": "7b5ef460-c7a7-41c4-9e30-32147378ad9e",
     "regions": {
      "e0058303-b4d6-46b6-add7-850151b45476": {
       "attrs": {
        "height": 0.8,
        "width": 0.8,
        "x": 0.1,
        "y": 0.1
       },
       "content": {
        "cell": "6eea91e6-8855-40e3-b7eb-fe3a20c2f49a",
        "part": "whole"
       },
       "id": "e0058303-b4d6-46b6-add7-850151b45476"
      }
     }
    },
    "d92b4d52-56ce-4883-af0c-0a1ff4f383ad": {
     "id": "d92b4d52-56ce-4883-af0c-0a1ff4f383ad",
     "prev": "8150b56c-093e-4efe-b2cc-b53e6467f9a1",
     "regions": {
      "a6ae4ccf-2d53-42c5-9c8a-1ed7c2ec8d16": {
       "attrs": {
        "height": 0.8,
        "width": 0.8,
        "x": 0.1,
        "y": 0.1
       },
       "content": {
        "cell": "89ae55e8-367f-4c45-a86b-9c064aaac3c0",
        "part": "whole"
       },
       "id": "a6ae4ccf-2d53-42c5-9c8a-1ed7c2ec8d16"
      }
     }
    },
    "da93379c-8de8-4d45-9f84-28125067f66a": {
     "id": "da93379c-8de8-4d45-9f84-28125067f66a",
     "prev": "d55bed90-d10f-4fb2-80f2-95ab88760fa1",
     "regions": {
      "7f2cdb1f-20db-4cb9-a406-5c75b5681da0": {
       "attrs": {
        "height": 0.8,
        "width": 0.8,
        "x": 0.1,
        "y": 0.1
       },
       "content": {
        "cell": "98ef4fa7-1100-408d-b13b-6c3d35cc2b98",
        "part": "whole"
       },
       "id": "7f2cdb1f-20db-4cb9-a406-5c75b5681da0"
      }
     }
    },
    "df78e521-dd5c-478a-9aa0-315330ea324d": {
     "id": "df78e521-dd5c-478a-9aa0-315330ea324d",
     "prev": "1effefc4-683f-437e-82c2-8eaf722ddbd0",
     "regions": {
      "c1e3a057-377e-4c3a-9be8-aaabdcd8e9c9": {
       "attrs": {
        "height": 0.8,
        "width": 0.8,
        "x": 0.1,
        "y": 0.1
       },
       "content": {
        "cell": "3c552aae-44a1-45b9-932c-dd28e956181d",
        "part": "whole"
       },
       "id": "c1e3a057-377e-4c3a-9be8-aaabdcd8e9c9"
      }
     }
    },
    "e2227be0-953d-4673-9019-758ca82fcfe7": {
     "id": "e2227be0-953d-4673-9019-758ca82fcfe7",
     "prev": "67cb11ec-185f-482e-a54c-304b6e711d04",
     "regions": {
      "7cc90dd2-7122-4261-a95d-d93b06320ca0": {
       "attrs": {
        "height": 0.8,
        "width": 0.8,
        "x": 0.1,
        "y": 0.1
       },
       "content": {
        "cell": "06294ad9-731c-4843-8e1f-9128a4f2a7d7",
        "part": "whole"
       },
       "id": "7cc90dd2-7122-4261-a95d-d93b06320ca0"
      }
     }
    },
    "e91db78e-df91-406b-840d-eeb014b974d7": {
     "id": "e91db78e-df91-406b-840d-eeb014b974d7",
     "prev": "c9b97f45-cf36-499e-9af2-36acf1c6a52e",
     "regions": {
      "a5b98004-e83a-4fe2-be29-2a9435f4679c": {
       "attrs": {
        "height": 0.8,
        "width": 0.8,
        "x": 0.1,
        "y": 0.1
       },
       "content": {
        "cell": "d4bb2dd5-453f-4b16-a8f6-e6ca2c3f9251",
        "part": "whole"
       },
       "id": "a5b98004-e83a-4fe2-be29-2a9435f4679c"
      }
     }
    },
    "eb891062-5d37-45da-a256-810797c3a77f": {
     "id": "eb891062-5d37-45da-a256-810797c3a77f",
     "prev": "22c866ba-f6c1-4a9f-9418-2e6712a2bad5",
     "regions": {
      "69f95f68-d6bc-481b-a954-7911929cc953": {
       "attrs": {
        "height": 0.8,
        "width": 0.8,
        "x": 0.1,
        "y": 0.1
       },
       "content": {
        "cell": "798109d6-468c-482b-b903-81d1ee45c9b8",
        "part": "whole"
       },
       "id": "69f95f68-d6bc-481b-a954-7911929cc953"
      }
     }
    },
    "f5d5d86b-0d0e-44d3-9a89-f79adde2653f": {
     "id": "f5d5d86b-0d0e-44d3-9a89-f79adde2653f",
     "prev": "908fe775-e644-4aa8-b793-6ebec4995f42",
     "regions": {
      "2988b7e5-5de7-4c09-ba4e-16934727ad22": {
       "attrs": {
        "height": 0.8,
        "width": 0.8,
        "x": 0.1,
        "y": 0.1
       },
       "content": {
        "cell": "859779e0-d8e8-43f6-8484-7589a7ab1627",
        "part": "whole"
       },
       "id": "2988b7e5-5de7-4c09-ba4e-16934727ad22"
      }
     }
    },
    "f730f973-aef7-4509-bdfb-dcf4c0ce3a6d": {
     "id": "f730f973-aef7-4509-bdfb-dcf4c0ce3a6d",
     "prev": "e91db78e-df91-406b-840d-eeb014b974d7",
     "regions": {
      "ae2f259f-df7d-46c3-80fa-918d54b5e513": {
       "attrs": {
        "height": 0.8,
        "width": 0.8,
        "x": 0.1,
        "y": 0.1
       },
       "content": {
        "cell": "9ae4e66d-8ccb-47bc-9dcd-2669d5458fd7",
        "part": "whole"
       },
       "id": "ae2f259f-df7d-46c3-80fa-918d54b5e513"
      }
     }
    },
    "f8ab0964-a61a-4363-9bf0-306d18f9c8bd": {
     "id": "f8ab0964-a61a-4363-9bf0-306d18f9c8bd",
     "prev": "99d8fc65-60d1-4127-866a-26830bbf8b23",
     "regions": {
      "2be4f2f9-0df7-47c0-a7cd-78d051ff6256": {
       "attrs": {
        "height": 0.8,
        "width": 0.8,
        "x": 0.1,
        "y": 0.1
       },
       "content": {
        "cell": "972fc5f2-f71a-4ead-aa31-2426ed4c319f",
        "part": "whole"
       },
       "id": "2be4f2f9-0df7-47c0-a7cd-78d051ff6256"
      }
     }
    },
    "fe75ea06-21ff-4df5-960d-244b09ed7c60": {
     "id": "fe75ea06-21ff-4df5-960d-244b09ed7c60",
     "prev": "bd382fd4-0067-479b-819b-681541f94f81",
     "regions": {
      "6117edb6-c919-453d-a5b1-b95825b74a8c": {
       "attrs": {
        "height": 0.8,
        "width": 0.8,
        "x": 0.1,
        "y": 0.1
       },
       "content": {
        "cell": "f9d479dc-87aa-4472-9676-7611bcae4c15",
        "part": "whole"
       },
       "id": "6117edb6-c919-453d-a5b1-b95825b74a8c"
      }
     }
    },
    "ff7cc1a4-cd79-41bc-a91c-aa74ef76c8b3": {
     "id": "ff7cc1a4-cd79-41bc-a91c-aa74ef76c8b3",
     "prev": "df78e521-dd5c-478a-9aa0-315330ea324d",
     "regions": {
      "75f3b832-04f8-4635-94bb-62e6aed8d6db": {
       "attrs": {
        "height": 0.8,
        "width": 0.8,
        "x": 0.1,
        "y": 0.1
       },
       "content": {
        "cell": "65ff2ac1-b50c-448d-af0c-27b573ba87de",
        "part": "whole"
       },
       "id": "75f3b832-04f8-4635-94bb-62e6aed8d6db"
      }
     }
    }
   },
   "themes": {
    "default": "6afa38f1-8eef-4a5c-92ab-1ff66aa88bac",
    "theme": {}
   }
  }
 },
 "nbformat": 4,
 "nbformat_minor": 1
}
